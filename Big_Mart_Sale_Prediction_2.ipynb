{
  "nbformat": 4,
  "nbformat_minor": 0,
  "metadata": {
    "colab": {
      "name": "Big_Mart_Sale_Prediction_2.ipynb",
      "provenance": [],
      "collapsed_sections": [
        "3KNn__8lUzED"
      ],
      "toc_visible": true,
      "mount_file_id": "11HlxNmZqydv4oICmmUpvbvcUAIbllba_",
      "authorship_tag": "ABX9TyMLzbOPTzkCXn3149nKWzWR",
      "include_colab_link": true
    },
    "kernelspec": {
      "name": "python3",
      "display_name": "Python 3"
    }
  },
  "cells": [
    {
      "cell_type": "markdown",
      "metadata": {
        "id": "view-in-github",
        "colab_type": "text"
      },
      "source": [
        "<a href=\"https://colab.research.google.com/github/Sedighe-Raeisi/Big_Mart_Sales_regression/blob/main/Big_Mart_Sale_Prediction_2.ipynb\" target=\"_parent\"><img src=\"https://colab.research.google.com/assets/colab-badge.svg\" alt=\"Open In Colab\"/></a>"
      ]
    },
    {
      "cell_type": "code",
      "metadata": {
        "id": "BT3jV5DFRFwY"
      },
      "source": [
        "#bigmart sale prediction :"
      ],
      "execution_count": null,
      "outputs": []
    },
    {
      "cell_type": "markdown",
      "metadata": {
        "id": "3KNn__8lUzED"
      },
      "source": [
        "#Get data from kaggle:"
      ]
    },
    {
      "cell_type": "code",
      "metadata": {
        "id": "ayiU0JgJYe0U"
      },
      "source": [
        "#Dataset: https://www.kaggle.com/brijbhushannanda1979/bigmart-sales-data"
      ],
      "execution_count": null,
      "outputs": []
    },
    {
      "cell_type": "code",
      "metadata": {
        "id": "SSRqqMGURNzr"
      },
      "source": [
        "!pip install -q kaggle"
      ],
      "execution_count": null,
      "outputs": []
    },
    {
      "cell_type": "code",
      "metadata": {
        "id": "YyTt2d3WTdnV",
        "colab": {
          "base_uri": "https://localhost:8080/"
        },
        "outputId": "225bf3df-44fd-499e-a1c5-bae618e1e144"
      },
      "source": [
        "!cp '/content/drive/My Drive/kaggle.json' ~/.kaggle/"
      ],
      "execution_count": null,
      "outputs": [
        {
          "output_type": "stream",
          "text": [
            "cp: cannot create regular file '/root/.kaggle/': Not a directory\n"
          ],
          "name": "stdout"
        }
      ]
    },
    {
      "cell_type": "code",
      "metadata": {
        "id": "D9wdgtstSh6-",
        "colab": {
          "base_uri": "https://localhost:8080/"
        },
        "outputId": "09ea650c-a97d-49ac-e05c-4385e4c3f986"
      },
      "source": [
        " ! kaggle datasets list"
      ],
      "execution_count": null,
      "outputs": [
        {
          "output_type": "stream",
          "text": [
            "Traceback (most recent call last):\n",
            "  File \"/usr/local/bin/kaggle\", line 5, in <module>\n",
            "    from kaggle.cli import main\n",
            "  File \"/usr/local/lib/python2.7/dist-packages/kaggle/__init__.py\", line 23, in <module>\n",
            "    api.authenticate()\n",
            "  File \"/usr/local/lib/python2.7/dist-packages/kaggle/api/kaggle_api_extended.py\", line 146, in authenticate\n",
            "    self.config_file, self.config_dir))\n",
            "IOError: Could not find kaggle.json. Make sure it's located in /root/.kaggle. Or use the environment method.\n"
          ],
          "name": "stdout"
        }
      ]
    },
    {
      "cell_type": "code",
      "metadata": {
        "colab": {
          "base_uri": "https://localhost:8080/"
        },
        "id": "fB1HNKLBRLX9",
        "outputId": "4bfcf524-b0af-4ac9-fed6-5eeb4ba55f06"
      },
      "source": [
        "!kaggle datasets download -d brijbhushannanda1979/bigmart-sales-data"
      ],
      "execution_count": null,
      "outputs": [
        {
          "output_type": "stream",
          "text": [
            "Traceback (most recent call last):\n",
            "  File \"/usr/local/bin/kaggle\", line 5, in <module>\n",
            "    from kaggle.cli import main\n",
            "  File \"/usr/local/lib/python2.7/dist-packages/kaggle/__init__.py\", line 23, in <module>\n",
            "    api.authenticate()\n",
            "  File \"/usr/local/lib/python2.7/dist-packages/kaggle/api/kaggle_api_extended.py\", line 146, in authenticate\n",
            "    self.config_file, self.config_dir))\n",
            "IOError: Could not find kaggle.json. Make sure it's located in /root/.kaggle. Or use the environment method.\n"
          ],
          "name": "stdout"
        }
      ]
    },
    {
      "cell_type": "code",
      "metadata": {
        "colab": {
          "base_uri": "https://localhost:8080/"
        },
        "id": "SrnXBUVXRRou",
        "outputId": "63ae707e-947a-43b5-ad44-bbac88465576"
      },
      "source": [
        "!unzip /content/bigmart-sales-data.zip -d /content/drive/MyDrive/MachineLearing/vidhya/Big_Mart_Sale"
      ],
      "execution_count": null,
      "outputs": [
        {
          "output_type": "stream",
          "text": [
            "unzip:  cannot find or open /content/bigmart-sales-data.zip, /content/bigmart-sales-data.zip.zip or /content/bigmart-sales-data.zip.ZIP.\n"
          ],
          "name": "stdout"
        }
      ]
    },
    {
      "cell_type": "markdown",
      "metadata": {
        "id": "Ygk3P_7nU-_S"
      },
      "source": [
        "#Reading the dataset"
      ]
    },
    {
      "cell_type": "code",
      "metadata": {
        "id": "Dgm8KqRuUikj"
      },
      "source": [
        "import numpy as np\r\n",
        "import pandas as pd\r\n",
        "import matplotlib.pyplot as plt\r\n"
      ],
      "execution_count": 1,
      "outputs": []
    },
    {
      "cell_type": "code",
      "metadata": {
        "id": "aiESoJadU-YY"
      },
      "source": [
        ""
      ],
      "execution_count": 1,
      "outputs": []
    },
    {
      "cell_type": "code",
      "metadata": {
        "id": "Fx0Wms2MUXmo"
      },
      "source": [
        "#Reading the datasets"
      ],
      "execution_count": 2,
      "outputs": []
    },
    {
      "cell_type": "code",
      "metadata": {
        "id": "QtGfOkOGUfAj"
      },
      "source": [
        "df=pd.read_csv('/content/drive/MyDrive/MachineLearing/vidhya/Big_Mart_Sale/Train.csv')"
      ],
      "execution_count": 3,
      "outputs": []
    },
    {
      "cell_type": "code",
      "metadata": {
        "colab": {
          "base_uri": "https://localhost:8080/",
          "height": 326
        },
        "id": "a8F7etPsU0Ex",
        "outputId": "0049def3-daf5-4103-d1d3-233046488481"
      },
      "source": [
        "print(df.shape)\r\n",
        "df.head()"
      ],
      "execution_count": 4,
      "outputs": [
        {
          "output_type": "stream",
          "text": [
            "(8523, 12)\n"
          ],
          "name": "stdout"
        },
        {
          "output_type": "execute_result",
          "data": {
            "text/html": [
              "<div>\n",
              "<style scoped>\n",
              "    .dataframe tbody tr th:only-of-type {\n",
              "        vertical-align: middle;\n",
              "    }\n",
              "\n",
              "    .dataframe tbody tr th {\n",
              "        vertical-align: top;\n",
              "    }\n",
              "\n",
              "    .dataframe thead th {\n",
              "        text-align: right;\n",
              "    }\n",
              "</style>\n",
              "<table border=\"1\" class=\"dataframe\">\n",
              "  <thead>\n",
              "    <tr style=\"text-align: right;\">\n",
              "      <th></th>\n",
              "      <th>Item_Identifier</th>\n",
              "      <th>Item_Weight</th>\n",
              "      <th>Item_Fat_Content</th>\n",
              "      <th>Item_Visibility</th>\n",
              "      <th>Item_Type</th>\n",
              "      <th>Item_MRP</th>\n",
              "      <th>Outlet_Identifier</th>\n",
              "      <th>Outlet_Establishment_Year</th>\n",
              "      <th>Outlet_Size</th>\n",
              "      <th>Outlet_Location_Type</th>\n",
              "      <th>Outlet_Type</th>\n",
              "      <th>Item_Outlet_Sales</th>\n",
              "    </tr>\n",
              "  </thead>\n",
              "  <tbody>\n",
              "    <tr>\n",
              "      <th>0</th>\n",
              "      <td>FDA15</td>\n",
              "      <td>9.30</td>\n",
              "      <td>Low Fat</td>\n",
              "      <td>0.016047</td>\n",
              "      <td>Dairy</td>\n",
              "      <td>249.8092</td>\n",
              "      <td>OUT049</td>\n",
              "      <td>1999</td>\n",
              "      <td>Medium</td>\n",
              "      <td>Tier 1</td>\n",
              "      <td>Supermarket Type1</td>\n",
              "      <td>3735.1380</td>\n",
              "    </tr>\n",
              "    <tr>\n",
              "      <th>1</th>\n",
              "      <td>DRC01</td>\n",
              "      <td>5.92</td>\n",
              "      <td>Regular</td>\n",
              "      <td>0.019278</td>\n",
              "      <td>Soft Drinks</td>\n",
              "      <td>48.2692</td>\n",
              "      <td>OUT018</td>\n",
              "      <td>2009</td>\n",
              "      <td>Medium</td>\n",
              "      <td>Tier 3</td>\n",
              "      <td>Supermarket Type2</td>\n",
              "      <td>443.4228</td>\n",
              "    </tr>\n",
              "    <tr>\n",
              "      <th>2</th>\n",
              "      <td>FDN15</td>\n",
              "      <td>17.50</td>\n",
              "      <td>Low Fat</td>\n",
              "      <td>0.016760</td>\n",
              "      <td>Meat</td>\n",
              "      <td>141.6180</td>\n",
              "      <td>OUT049</td>\n",
              "      <td>1999</td>\n",
              "      <td>Medium</td>\n",
              "      <td>Tier 1</td>\n",
              "      <td>Supermarket Type1</td>\n",
              "      <td>2097.2700</td>\n",
              "    </tr>\n",
              "    <tr>\n",
              "      <th>3</th>\n",
              "      <td>FDX07</td>\n",
              "      <td>19.20</td>\n",
              "      <td>Regular</td>\n",
              "      <td>0.000000</td>\n",
              "      <td>Fruits and Vegetables</td>\n",
              "      <td>182.0950</td>\n",
              "      <td>OUT010</td>\n",
              "      <td>1998</td>\n",
              "      <td>NaN</td>\n",
              "      <td>Tier 3</td>\n",
              "      <td>Grocery Store</td>\n",
              "      <td>732.3800</td>\n",
              "    </tr>\n",
              "    <tr>\n",
              "      <th>4</th>\n",
              "      <td>NCD19</td>\n",
              "      <td>8.93</td>\n",
              "      <td>Low Fat</td>\n",
              "      <td>0.000000</td>\n",
              "      <td>Household</td>\n",
              "      <td>53.8614</td>\n",
              "      <td>OUT013</td>\n",
              "      <td>1987</td>\n",
              "      <td>High</td>\n",
              "      <td>Tier 3</td>\n",
              "      <td>Supermarket Type1</td>\n",
              "      <td>994.7052</td>\n",
              "    </tr>\n",
              "  </tbody>\n",
              "</table>\n",
              "</div>"
            ],
            "text/plain": [
              "  Item_Identifier  Item_Weight  ...        Outlet_Type  Item_Outlet_Sales\n",
              "0           FDA15         9.30  ...  Supermarket Type1          3735.1380\n",
              "1           DRC01         5.92  ...  Supermarket Type2           443.4228\n",
              "2           FDN15        17.50  ...  Supermarket Type1          2097.2700\n",
              "3           FDX07        19.20  ...      Grocery Store           732.3800\n",
              "4           NCD19         8.93  ...  Supermarket Type1           994.7052\n",
              "\n",
              "[5 rows x 12 columns]"
            ]
          },
          "metadata": {
            "tags": []
          },
          "execution_count": 4
        }
      ]
    },
    {
      "cell_type": "code",
      "metadata": {
        "id": "uadwIcUdiHL-"
      },
      "source": [
        ""
      ],
      "execution_count": 4,
      "outputs": []
    },
    {
      "cell_type": "code",
      "metadata": {
        "colab": {
          "base_uri": "https://localhost:8080/"
        },
        "id": "5wlByJHkVCx3",
        "outputId": "2ae99b20-46c1-4dd8-977c-ac2d3ecf6544"
      },
      "source": [
        "df.shape"
      ],
      "execution_count": 5,
      "outputs": [
        {
          "output_type": "execute_result",
          "data": {
            "text/plain": [
              "(8523, 12)"
            ]
          },
          "metadata": {
            "tags": []
          },
          "execution_count": 5
        }
      ]
    },
    {
      "cell_type": "code",
      "metadata": {
        "colab": {
          "base_uri": "https://localhost:8080/"
        },
        "id": "8m7HaNTcWiTs",
        "outputId": "61a9c746-0346-4bed-e607-7211b97fc576"
      },
      "source": [
        "df.dtypes"
      ],
      "execution_count": 6,
      "outputs": [
        {
          "output_type": "execute_result",
          "data": {
            "text/plain": [
              "Item_Identifier               object\n",
              "Item_Weight                  float64\n",
              "Item_Fat_Content              object\n",
              "Item_Visibility              float64\n",
              "Item_Type                     object\n",
              "Item_MRP                     float64\n",
              "Outlet_Identifier             object\n",
              "Outlet_Establishment_Year      int64\n",
              "Outlet_Size                   object\n",
              "Outlet_Location_Type          object\n",
              "Outlet_Type                   object\n",
              "Item_Outlet_Sales            float64\n",
              "dtype: object"
            ]
          },
          "metadata": {
            "tags": []
          },
          "execution_count": 6
        }
      ]
    },
    {
      "cell_type": "code",
      "metadata": {
        "id": "9Hs-i_1lX893"
      },
      "source": [
        "#dealing with null values"
      ],
      "execution_count": 7,
      "outputs": []
    },
    {
      "cell_type": "markdown",
      "metadata": {
        "id": "Q-71D7poVFm1"
      },
      "source": [
        "#Cleaning the datas"
      ]
    },
    {
      "cell_type": "code",
      "metadata": {
        "colab": {
          "base_uri": "https://localhost:8080/"
        },
        "id": "w59qJG3_VEyJ",
        "outputId": "eb44b092-2dbf-42c5-af04-89cd7c2af218"
      },
      "source": [
        "df.isnull().sum()"
      ],
      "execution_count": 8,
      "outputs": [
        {
          "output_type": "execute_result",
          "data": {
            "text/plain": [
              "Item_Identifier                 0\n",
              "Item_Weight                  1463\n",
              "Item_Fat_Content                0\n",
              "Item_Visibility                 0\n",
              "Item_Type                       0\n",
              "Item_MRP                        0\n",
              "Outlet_Identifier               0\n",
              "Outlet_Establishment_Year       0\n",
              "Outlet_Size                  2410\n",
              "Outlet_Location_Type            0\n",
              "Outlet_Type                     0\n",
              "Item_Outlet_Sales               0\n",
              "dtype: int64"
            ]
          },
          "metadata": {
            "tags": []
          },
          "execution_count": 8
        }
      ]
    },
    {
      "cell_type": "code",
      "metadata": {
        "id": "wE3F8zC3WeE2"
      },
      "source": [
        "df.Item_Weight.fillna(df.Item_Weight.mean(),inplace=True)\r\n",
        "df.Outlet_Size.fillna(df.Outlet_Size.mode()[0],inplace=True)"
      ],
      "execution_count": 9,
      "outputs": []
    },
    {
      "cell_type": "code",
      "metadata": {
        "colab": {
          "base_uri": "https://localhost:8080/"
        },
        "id": "Je-re4t7XscI",
        "outputId": "bd6ab63e-c8cb-4c61-ddf8-fd999000b6ee"
      },
      "source": [
        "df.isnull().sum()"
      ],
      "execution_count": 10,
      "outputs": [
        {
          "output_type": "execute_result",
          "data": {
            "text/plain": [
              "Item_Identifier              0\n",
              "Item_Weight                  0\n",
              "Item_Fat_Content             0\n",
              "Item_Visibility              0\n",
              "Item_Type                    0\n",
              "Item_MRP                     0\n",
              "Outlet_Identifier            0\n",
              "Outlet_Establishment_Year    0\n",
              "Outlet_Size                  0\n",
              "Outlet_Location_Type         0\n",
              "Outlet_Type                  0\n",
              "Item_Outlet_Sales            0\n",
              "dtype: int64"
            ]
          },
          "metadata": {
            "tags": []
          },
          "execution_count": 10
        }
      ]
    },
    {
      "cell_type": "code",
      "metadata": {
        "id": "hRjoMrD8Xvto"
      },
      "source": [
        "#Preproccessing :"
      ],
      "execution_count": 11,
      "outputs": []
    },
    {
      "cell_type": "code",
      "metadata": {
        "colab": {
          "base_uri": "https://localhost:8080/",
          "height": 309
        },
        "id": "KRPbFj0ubIGo",
        "outputId": "c761acc2-772e-42f9-b01f-9c02dedd235d"
      },
      "source": [
        "\r\n",
        "df.head()"
      ],
      "execution_count": 12,
      "outputs": [
        {
          "output_type": "execute_result",
          "data": {
            "text/html": [
              "<div>\n",
              "<style scoped>\n",
              "    .dataframe tbody tr th:only-of-type {\n",
              "        vertical-align: middle;\n",
              "    }\n",
              "\n",
              "    .dataframe tbody tr th {\n",
              "        vertical-align: top;\n",
              "    }\n",
              "\n",
              "    .dataframe thead th {\n",
              "        text-align: right;\n",
              "    }\n",
              "</style>\n",
              "<table border=\"1\" class=\"dataframe\">\n",
              "  <thead>\n",
              "    <tr style=\"text-align: right;\">\n",
              "      <th></th>\n",
              "      <th>Item_Identifier</th>\n",
              "      <th>Item_Weight</th>\n",
              "      <th>Item_Fat_Content</th>\n",
              "      <th>Item_Visibility</th>\n",
              "      <th>Item_Type</th>\n",
              "      <th>Item_MRP</th>\n",
              "      <th>Outlet_Identifier</th>\n",
              "      <th>Outlet_Establishment_Year</th>\n",
              "      <th>Outlet_Size</th>\n",
              "      <th>Outlet_Location_Type</th>\n",
              "      <th>Outlet_Type</th>\n",
              "      <th>Item_Outlet_Sales</th>\n",
              "    </tr>\n",
              "  </thead>\n",
              "  <tbody>\n",
              "    <tr>\n",
              "      <th>0</th>\n",
              "      <td>FDA15</td>\n",
              "      <td>9.30</td>\n",
              "      <td>Low Fat</td>\n",
              "      <td>0.016047</td>\n",
              "      <td>Dairy</td>\n",
              "      <td>249.8092</td>\n",
              "      <td>OUT049</td>\n",
              "      <td>1999</td>\n",
              "      <td>Medium</td>\n",
              "      <td>Tier 1</td>\n",
              "      <td>Supermarket Type1</td>\n",
              "      <td>3735.1380</td>\n",
              "    </tr>\n",
              "    <tr>\n",
              "      <th>1</th>\n",
              "      <td>DRC01</td>\n",
              "      <td>5.92</td>\n",
              "      <td>Regular</td>\n",
              "      <td>0.019278</td>\n",
              "      <td>Soft Drinks</td>\n",
              "      <td>48.2692</td>\n",
              "      <td>OUT018</td>\n",
              "      <td>2009</td>\n",
              "      <td>Medium</td>\n",
              "      <td>Tier 3</td>\n",
              "      <td>Supermarket Type2</td>\n",
              "      <td>443.4228</td>\n",
              "    </tr>\n",
              "    <tr>\n",
              "      <th>2</th>\n",
              "      <td>FDN15</td>\n",
              "      <td>17.50</td>\n",
              "      <td>Low Fat</td>\n",
              "      <td>0.016760</td>\n",
              "      <td>Meat</td>\n",
              "      <td>141.6180</td>\n",
              "      <td>OUT049</td>\n",
              "      <td>1999</td>\n",
              "      <td>Medium</td>\n",
              "      <td>Tier 1</td>\n",
              "      <td>Supermarket Type1</td>\n",
              "      <td>2097.2700</td>\n",
              "    </tr>\n",
              "    <tr>\n",
              "      <th>3</th>\n",
              "      <td>FDX07</td>\n",
              "      <td>19.20</td>\n",
              "      <td>Regular</td>\n",
              "      <td>0.000000</td>\n",
              "      <td>Fruits and Vegetables</td>\n",
              "      <td>182.0950</td>\n",
              "      <td>OUT010</td>\n",
              "      <td>1998</td>\n",
              "      <td>Medium</td>\n",
              "      <td>Tier 3</td>\n",
              "      <td>Grocery Store</td>\n",
              "      <td>732.3800</td>\n",
              "    </tr>\n",
              "    <tr>\n",
              "      <th>4</th>\n",
              "      <td>NCD19</td>\n",
              "      <td>8.93</td>\n",
              "      <td>Low Fat</td>\n",
              "      <td>0.000000</td>\n",
              "      <td>Household</td>\n",
              "      <td>53.8614</td>\n",
              "      <td>OUT013</td>\n",
              "      <td>1987</td>\n",
              "      <td>High</td>\n",
              "      <td>Tier 3</td>\n",
              "      <td>Supermarket Type1</td>\n",
              "      <td>994.7052</td>\n",
              "    </tr>\n",
              "  </tbody>\n",
              "</table>\n",
              "</div>"
            ],
            "text/plain": [
              "  Item_Identifier  Item_Weight  ...        Outlet_Type  Item_Outlet_Sales\n",
              "0           FDA15         9.30  ...  Supermarket Type1          3735.1380\n",
              "1           DRC01         5.92  ...  Supermarket Type2           443.4228\n",
              "2           FDN15        17.50  ...  Supermarket Type1          2097.2700\n",
              "3           FDX07        19.20  ...      Grocery Store           732.3800\n",
              "4           NCD19         8.93  ...  Supermarket Type1           994.7052\n",
              "\n",
              "[5 rows x 12 columns]"
            ]
          },
          "metadata": {
            "tags": []
          },
          "execution_count": 12
        }
      ]
    },
    {
      "cell_type": "code",
      "metadata": {
        "colab": {
          "base_uri": "https://localhost:8080/"
        },
        "id": "ozZbMBi0YGGQ",
        "outputId": "6ef55c58-586d-44db-ffcf-c6c46ed025b6"
      },
      "source": [
        "for i in df.columns[1:]:\r\n",
        "  if (df[i].dtype)=='object':\r\n",
        "    \r\n",
        "    print(i,set(df[i]))"
      ],
      "execution_count": 13,
      "outputs": [
        {
          "output_type": "stream",
          "text": [
            "Item_Fat_Content {'Low Fat', 'Regular', 'reg', 'low fat', 'LF'}\n",
            "Item_Type {'Starchy Foods', 'Snack Foods', 'Seafood', 'Household', 'Breads', 'Health and Hygiene', 'Soft Drinks', 'Breakfast', 'Fruits and Vegetables', 'Frozen Foods', 'Hard Drinks', 'Baking Goods', 'Meat', 'Canned', 'Dairy', 'Others'}\n",
            "Outlet_Identifier {'OUT017', 'OUT010', 'OUT019', 'OUT046', 'OUT013', 'OUT045', 'OUT035', 'OUT049', 'OUT027', 'OUT018'}\n",
            "Outlet_Size {'Medium', 'Small', 'High'}\n",
            "Outlet_Location_Type {'Tier 3', 'Tier 2', 'Tier 1'}\n",
            "Outlet_Type {'Supermarket Type3', 'Grocery Store', 'Supermarket Type2', 'Supermarket Type1'}\n"
          ],
          "name": "stdout"
        }
      ]
    },
    {
      "cell_type": "code",
      "metadata": {
        "colab": {
          "base_uri": "https://localhost:8080/"
        },
        "id": "Abf7JlxinjEt",
        "outputId": "8cb331a2-284b-4e4d-f4a2-a500d76d69a3"
      },
      "source": [
        "df.shape"
      ],
      "execution_count": 14,
      "outputs": [
        {
          "output_type": "execute_result",
          "data": {
            "text/plain": [
              "(8523, 12)"
            ]
          },
          "metadata": {
            "tags": []
          },
          "execution_count": 14
        }
      ]
    },
    {
      "cell_type": "code",
      "metadata": {
        "colab": {
          "base_uri": "https://localhost:8080/"
        },
        "id": "R9svS8R8nmoy",
        "outputId": "056f9d61-7cf8-4176-a609-1f31a3112149"
      },
      "source": [
        "df.dtypes"
      ],
      "execution_count": 15,
      "outputs": [
        {
          "output_type": "execute_result",
          "data": {
            "text/plain": [
              "Item_Identifier               object\n",
              "Item_Weight                  float64\n",
              "Item_Fat_Content              object\n",
              "Item_Visibility              float64\n",
              "Item_Type                     object\n",
              "Item_MRP                     float64\n",
              "Outlet_Identifier             object\n",
              "Outlet_Establishment_Year      int64\n",
              "Outlet_Size                   object\n",
              "Outlet_Location_Type          object\n",
              "Outlet_Type                   object\n",
              "Item_Outlet_Sales            float64\n",
              "dtype: object"
            ]
          },
          "metadata": {
            "tags": []
          },
          "execution_count": 15
        }
      ]
    },
    {
      "cell_type": "code",
      "metadata": {
        "colab": {
          "base_uri": "https://localhost:8080/"
        },
        "id": "uegCKAR4mq58",
        "outputId": "1a3d6b38-1bb7-4b5a-e244-6f7dac34a6e7"
      },
      "source": [
        "obj_col=list()\r\n",
        "for i in df.columns[1:]:\r\n",
        "  if (df[i].dtype)=='object':\r\n",
        "    \r\n",
        "    obj_col.append(i)\r\n",
        "obj_col"
      ],
      "execution_count": 16,
      "outputs": [
        {
          "output_type": "execute_result",
          "data": {
            "text/plain": [
              "['Item_Fat_Content',\n",
              " 'Item_Type',\n",
              " 'Outlet_Identifier',\n",
              " 'Outlet_Size',\n",
              " 'Outlet_Location_Type',\n",
              " 'Outlet_Type']"
            ]
          },
          "metadata": {
            "tags": []
          },
          "execution_count": 16
        }
      ]
    },
    {
      "cell_type": "code",
      "metadata": {
        "id": "ZqzF9e_MnB0l"
      },
      "source": [
        "df=pd.get_dummies(df,columns=obj_col)"
      ],
      "execution_count": 17,
      "outputs": []
    },
    {
      "cell_type": "code",
      "metadata": {
        "colab": {
          "base_uri": "https://localhost:8080/"
        },
        "id": "dkQFUO8in9e4",
        "outputId": "f5315883-8982-4557-a310-d9ccb9a9d01f"
      },
      "source": [
        "df.shape"
      ],
      "execution_count": 18,
      "outputs": [
        {
          "output_type": "execute_result",
          "data": {
            "text/plain": [
              "(8523, 47)"
            ]
          },
          "metadata": {
            "tags": []
          },
          "execution_count": 18
        }
      ]
    },
    {
      "cell_type": "code",
      "metadata": {
        "colab": {
          "base_uri": "https://localhost:8080/"
        },
        "id": "NW7ICN3nnKJK",
        "outputId": "ecd28897-8fd7-4384-c512-c18202447a76"
      },
      "source": [
        "df.dtypes"
      ],
      "execution_count": 19,
      "outputs": [
        {
          "output_type": "execute_result",
          "data": {
            "text/plain": [
              "Item_Identifier                     object\n",
              "Item_Weight                        float64\n",
              "Item_Visibility                    float64\n",
              "Item_MRP                           float64\n",
              "Outlet_Establishment_Year            int64\n",
              "Item_Outlet_Sales                  float64\n",
              "Item_Fat_Content_LF                  uint8\n",
              "Item_Fat_Content_Low Fat             uint8\n",
              "Item_Fat_Content_Regular             uint8\n",
              "Item_Fat_Content_low fat             uint8\n",
              "Item_Fat_Content_reg                 uint8\n",
              "Item_Type_Baking Goods               uint8\n",
              "Item_Type_Breads                     uint8\n",
              "Item_Type_Breakfast                  uint8\n",
              "Item_Type_Canned                     uint8\n",
              "Item_Type_Dairy                      uint8\n",
              "Item_Type_Frozen Foods               uint8\n",
              "Item_Type_Fruits and Vegetables      uint8\n",
              "Item_Type_Hard Drinks                uint8\n",
              "Item_Type_Health and Hygiene         uint8\n",
              "Item_Type_Household                  uint8\n",
              "Item_Type_Meat                       uint8\n",
              "Item_Type_Others                     uint8\n",
              "Item_Type_Seafood                    uint8\n",
              "Item_Type_Snack Foods                uint8\n",
              "Item_Type_Soft Drinks                uint8\n",
              "Item_Type_Starchy Foods              uint8\n",
              "Outlet_Identifier_OUT010             uint8\n",
              "Outlet_Identifier_OUT013             uint8\n",
              "Outlet_Identifier_OUT017             uint8\n",
              "Outlet_Identifier_OUT018             uint8\n",
              "Outlet_Identifier_OUT019             uint8\n",
              "Outlet_Identifier_OUT027             uint8\n",
              "Outlet_Identifier_OUT035             uint8\n",
              "Outlet_Identifier_OUT045             uint8\n",
              "Outlet_Identifier_OUT046             uint8\n",
              "Outlet_Identifier_OUT049             uint8\n",
              "Outlet_Size_High                     uint8\n",
              "Outlet_Size_Medium                   uint8\n",
              "Outlet_Size_Small                    uint8\n",
              "Outlet_Location_Type_Tier 1          uint8\n",
              "Outlet_Location_Type_Tier 2          uint8\n",
              "Outlet_Location_Type_Tier 3          uint8\n",
              "Outlet_Type_Grocery Store            uint8\n",
              "Outlet_Type_Supermarket Type1        uint8\n",
              "Outlet_Type_Supermarket Type2        uint8\n",
              "Outlet_Type_Supermarket Type3        uint8\n",
              "dtype: object"
            ]
          },
          "metadata": {
            "tags": []
          },
          "execution_count": 19
        }
      ]
    },
    {
      "cell_type": "code",
      "metadata": {
        "colab": {
          "base_uri": "https://localhost:8080/"
        },
        "id": "_UvoO55gYN0F",
        "outputId": "6e53bc57-8162-4695-a94e-4c816690a2fc"
      },
      "source": [
        "for i in df.columns[1:]:\r\n",
        "  \r\n",
        "    \r\n",
        "  print('len of set of {}='.format(i),len(set(df[i])))"
      ],
      "execution_count": 20,
      "outputs": [
        {
          "output_type": "stream",
          "text": [
            "len of set of Item_Weight= 416\n",
            "len of set of Item_Visibility= 7880\n",
            "len of set of Item_MRP= 5938\n",
            "len of set of Outlet_Establishment_Year= 9\n",
            "len of set of Item_Outlet_Sales= 3493\n",
            "len of set of Item_Fat_Content_LF= 2\n",
            "len of set of Item_Fat_Content_Low Fat= 2\n",
            "len of set of Item_Fat_Content_Regular= 2\n",
            "len of set of Item_Fat_Content_low fat= 2\n",
            "len of set of Item_Fat_Content_reg= 2\n",
            "len of set of Item_Type_Baking Goods= 2\n",
            "len of set of Item_Type_Breads= 2\n",
            "len of set of Item_Type_Breakfast= 2\n",
            "len of set of Item_Type_Canned= 2\n",
            "len of set of Item_Type_Dairy= 2\n",
            "len of set of Item_Type_Frozen Foods= 2\n",
            "len of set of Item_Type_Fruits and Vegetables= 2\n",
            "len of set of Item_Type_Hard Drinks= 2\n",
            "len of set of Item_Type_Health and Hygiene= 2\n",
            "len of set of Item_Type_Household= 2\n",
            "len of set of Item_Type_Meat= 2\n",
            "len of set of Item_Type_Others= 2\n",
            "len of set of Item_Type_Seafood= 2\n",
            "len of set of Item_Type_Snack Foods= 2\n",
            "len of set of Item_Type_Soft Drinks= 2\n",
            "len of set of Item_Type_Starchy Foods= 2\n",
            "len of set of Outlet_Identifier_OUT010= 2\n",
            "len of set of Outlet_Identifier_OUT013= 2\n",
            "len of set of Outlet_Identifier_OUT017= 2\n",
            "len of set of Outlet_Identifier_OUT018= 2\n",
            "len of set of Outlet_Identifier_OUT019= 2\n",
            "len of set of Outlet_Identifier_OUT027= 2\n",
            "len of set of Outlet_Identifier_OUT035= 2\n",
            "len of set of Outlet_Identifier_OUT045= 2\n",
            "len of set of Outlet_Identifier_OUT046= 2\n",
            "len of set of Outlet_Identifier_OUT049= 2\n",
            "len of set of Outlet_Size_High= 2\n",
            "len of set of Outlet_Size_Medium= 2\n",
            "len of set of Outlet_Size_Small= 2\n",
            "len of set of Outlet_Location_Type_Tier 1= 2\n",
            "len of set of Outlet_Location_Type_Tier 2= 2\n",
            "len of set of Outlet_Location_Type_Tier 3= 2\n",
            "len of set of Outlet_Type_Grocery Store= 2\n",
            "len of set of Outlet_Type_Supermarket Type1= 2\n",
            "len of set of Outlet_Type_Supermarket Type2= 2\n",
            "len of set of Outlet_Type_Supermarket Type3= 2\n"
          ],
          "name": "stdout"
        }
      ]
    },
    {
      "cell_type": "code",
      "metadata": {
        "colab": {
          "base_uri": "https://localhost:8080/"
        },
        "id": "o034ardXgo8V",
        "outputId": "eac383d2-41f0-4989-fe26-2bf56aca8966"
      },
      "source": [
        "ii=0\r\n",
        "for i in df.columns[1:]:\r\n",
        "  if (df[i].isnull().sum())!=0:\r\n",
        "    \r\n",
        "    print(i)\r\n",
        "  ii+=1\r\n",
        "print('there is no null value','          number of coloumns=',ii)\r\n"
      ],
      "execution_count": 21,
      "outputs": [
        {
          "output_type": "stream",
          "text": [
            "there is no null value           number of coloumns= 46\n"
          ],
          "name": "stdout"
        }
      ]
    },
    {
      "cell_type": "code",
      "metadata": {
        "colab": {
          "base_uri": "https://localhost:8080/"
        },
        "id": "SdQNTTPiofjj",
        "outputId": "a085566d-7a73-4b3b-eb32-aa00de70c66e"
      },
      "source": [
        "for i in df.columns[1:]:\r\n",
        "   \r\n",
        "  print(i,df[i].max(),df[i].min())"
      ],
      "execution_count": 22,
      "outputs": [
        {
          "output_type": "stream",
          "text": [
            "Item_Weight 21.35 4.555\n",
            "Item_Visibility 0.328390948 0.0\n",
            "Item_MRP 266.8884 31.29\n",
            "Outlet_Establishment_Year 2009 1985\n",
            "Item_Outlet_Sales 13086.9648 33.29\n",
            "Item_Fat_Content_LF 1 0\n",
            "Item_Fat_Content_Low Fat 1 0\n",
            "Item_Fat_Content_Regular 1 0\n",
            "Item_Fat_Content_low fat 1 0\n",
            "Item_Fat_Content_reg 1 0\n",
            "Item_Type_Baking Goods 1 0\n",
            "Item_Type_Breads 1 0\n",
            "Item_Type_Breakfast 1 0\n",
            "Item_Type_Canned 1 0\n",
            "Item_Type_Dairy 1 0\n",
            "Item_Type_Frozen Foods 1 0\n",
            "Item_Type_Fruits and Vegetables 1 0\n",
            "Item_Type_Hard Drinks 1 0\n",
            "Item_Type_Health and Hygiene 1 0\n",
            "Item_Type_Household 1 0\n",
            "Item_Type_Meat 1 0\n",
            "Item_Type_Others 1 0\n",
            "Item_Type_Seafood 1 0\n",
            "Item_Type_Snack Foods 1 0\n",
            "Item_Type_Soft Drinks 1 0\n",
            "Item_Type_Starchy Foods 1 0\n",
            "Outlet_Identifier_OUT010 1 0\n",
            "Outlet_Identifier_OUT013 1 0\n",
            "Outlet_Identifier_OUT017 1 0\n",
            "Outlet_Identifier_OUT018 1 0\n",
            "Outlet_Identifier_OUT019 1 0\n",
            "Outlet_Identifier_OUT027 1 0\n",
            "Outlet_Identifier_OUT035 1 0\n",
            "Outlet_Identifier_OUT045 1 0\n",
            "Outlet_Identifier_OUT046 1 0\n",
            "Outlet_Identifier_OUT049 1 0\n",
            "Outlet_Size_High 1 0\n",
            "Outlet_Size_Medium 1 0\n",
            "Outlet_Size_Small 1 0\n",
            "Outlet_Location_Type_Tier 1 1 0\n",
            "Outlet_Location_Type_Tier 2 1 0\n",
            "Outlet_Location_Type_Tier 3 1 0\n",
            "Outlet_Type_Grocery Store 1 0\n",
            "Outlet_Type_Supermarket Type1 1 0\n",
            "Outlet_Type_Supermarket Type2 1 0\n",
            "Outlet_Type_Supermarket Type3 1 0\n"
          ],
          "name": "stdout"
        }
      ]
    },
    {
      "cell_type": "code",
      "metadata": {
        "colab": {
          "base_uri": "https://localhost:8080/"
        },
        "id": "Mn6q_QxXruwz",
        "outputId": "c18eca63-8d01-48cb-84e0-e24ca95327fd"
      },
      "source": [
        "df.dtypes"
      ],
      "execution_count": 23,
      "outputs": [
        {
          "output_type": "execute_result",
          "data": {
            "text/plain": [
              "Item_Identifier                     object\n",
              "Item_Weight                        float64\n",
              "Item_Visibility                    float64\n",
              "Item_MRP                           float64\n",
              "Outlet_Establishment_Year            int64\n",
              "Item_Outlet_Sales                  float64\n",
              "Item_Fat_Content_LF                  uint8\n",
              "Item_Fat_Content_Low Fat             uint8\n",
              "Item_Fat_Content_Regular             uint8\n",
              "Item_Fat_Content_low fat             uint8\n",
              "Item_Fat_Content_reg                 uint8\n",
              "Item_Type_Baking Goods               uint8\n",
              "Item_Type_Breads                     uint8\n",
              "Item_Type_Breakfast                  uint8\n",
              "Item_Type_Canned                     uint8\n",
              "Item_Type_Dairy                      uint8\n",
              "Item_Type_Frozen Foods               uint8\n",
              "Item_Type_Fruits and Vegetables      uint8\n",
              "Item_Type_Hard Drinks                uint8\n",
              "Item_Type_Health and Hygiene         uint8\n",
              "Item_Type_Household                  uint8\n",
              "Item_Type_Meat                       uint8\n",
              "Item_Type_Others                     uint8\n",
              "Item_Type_Seafood                    uint8\n",
              "Item_Type_Snack Foods                uint8\n",
              "Item_Type_Soft Drinks                uint8\n",
              "Item_Type_Starchy Foods              uint8\n",
              "Outlet_Identifier_OUT010             uint8\n",
              "Outlet_Identifier_OUT013             uint8\n",
              "Outlet_Identifier_OUT017             uint8\n",
              "Outlet_Identifier_OUT018             uint8\n",
              "Outlet_Identifier_OUT019             uint8\n",
              "Outlet_Identifier_OUT027             uint8\n",
              "Outlet_Identifier_OUT035             uint8\n",
              "Outlet_Identifier_OUT045             uint8\n",
              "Outlet_Identifier_OUT046             uint8\n",
              "Outlet_Identifier_OUT049             uint8\n",
              "Outlet_Size_High                     uint8\n",
              "Outlet_Size_Medium                   uint8\n",
              "Outlet_Size_Small                    uint8\n",
              "Outlet_Location_Type_Tier 1          uint8\n",
              "Outlet_Location_Type_Tier 2          uint8\n",
              "Outlet_Location_Type_Tier 3          uint8\n",
              "Outlet_Type_Grocery Store            uint8\n",
              "Outlet_Type_Supermarket Type1        uint8\n",
              "Outlet_Type_Supermarket Type2        uint8\n",
              "Outlet_Type_Supermarket Type3        uint8\n",
              "dtype: object"
            ]
          },
          "metadata": {
            "tags": []
          },
          "execution_count": 23
        }
      ]
    },
    {
      "cell_type": "code",
      "metadata": {
        "colab": {
          "base_uri": "https://localhost:8080/",
          "height": 241
        },
        "id": "KSaVyxaIdehj",
        "outputId": "f176a6e3-cce1-4f5c-b2c4-937a34a18a5f"
      },
      "source": [
        "df.head()"
      ],
      "execution_count": 24,
      "outputs": [
        {
          "output_type": "execute_result",
          "data": {
            "text/html": [
              "<div>\n",
              "<style scoped>\n",
              "    .dataframe tbody tr th:only-of-type {\n",
              "        vertical-align: middle;\n",
              "    }\n",
              "\n",
              "    .dataframe tbody tr th {\n",
              "        vertical-align: top;\n",
              "    }\n",
              "\n",
              "    .dataframe thead th {\n",
              "        text-align: right;\n",
              "    }\n",
              "</style>\n",
              "<table border=\"1\" class=\"dataframe\">\n",
              "  <thead>\n",
              "    <tr style=\"text-align: right;\">\n",
              "      <th></th>\n",
              "      <th>Item_Identifier</th>\n",
              "      <th>Item_Weight</th>\n",
              "      <th>Item_Visibility</th>\n",
              "      <th>Item_MRP</th>\n",
              "      <th>Outlet_Establishment_Year</th>\n",
              "      <th>Item_Outlet_Sales</th>\n",
              "      <th>Item_Fat_Content_LF</th>\n",
              "      <th>Item_Fat_Content_Low Fat</th>\n",
              "      <th>Item_Fat_Content_Regular</th>\n",
              "      <th>Item_Fat_Content_low fat</th>\n",
              "      <th>Item_Fat_Content_reg</th>\n",
              "      <th>Item_Type_Baking Goods</th>\n",
              "      <th>Item_Type_Breads</th>\n",
              "      <th>Item_Type_Breakfast</th>\n",
              "      <th>Item_Type_Canned</th>\n",
              "      <th>Item_Type_Dairy</th>\n",
              "      <th>Item_Type_Frozen Foods</th>\n",
              "      <th>Item_Type_Fruits and Vegetables</th>\n",
              "      <th>Item_Type_Hard Drinks</th>\n",
              "      <th>Item_Type_Health and Hygiene</th>\n",
              "      <th>Item_Type_Household</th>\n",
              "      <th>Item_Type_Meat</th>\n",
              "      <th>Item_Type_Others</th>\n",
              "      <th>Item_Type_Seafood</th>\n",
              "      <th>Item_Type_Snack Foods</th>\n",
              "      <th>Item_Type_Soft Drinks</th>\n",
              "      <th>Item_Type_Starchy Foods</th>\n",
              "      <th>Outlet_Identifier_OUT010</th>\n",
              "      <th>Outlet_Identifier_OUT013</th>\n",
              "      <th>Outlet_Identifier_OUT017</th>\n",
              "      <th>Outlet_Identifier_OUT018</th>\n",
              "      <th>Outlet_Identifier_OUT019</th>\n",
              "      <th>Outlet_Identifier_OUT027</th>\n",
              "      <th>Outlet_Identifier_OUT035</th>\n",
              "      <th>Outlet_Identifier_OUT045</th>\n",
              "      <th>Outlet_Identifier_OUT046</th>\n",
              "      <th>Outlet_Identifier_OUT049</th>\n",
              "      <th>Outlet_Size_High</th>\n",
              "      <th>Outlet_Size_Medium</th>\n",
              "      <th>Outlet_Size_Small</th>\n",
              "      <th>Outlet_Location_Type_Tier 1</th>\n",
              "      <th>Outlet_Location_Type_Tier 2</th>\n",
              "      <th>Outlet_Location_Type_Tier 3</th>\n",
              "      <th>Outlet_Type_Grocery Store</th>\n",
              "      <th>Outlet_Type_Supermarket Type1</th>\n",
              "      <th>Outlet_Type_Supermarket Type2</th>\n",
              "      <th>Outlet_Type_Supermarket Type3</th>\n",
              "    </tr>\n",
              "  </thead>\n",
              "  <tbody>\n",
              "    <tr>\n",
              "      <th>0</th>\n",
              "      <td>FDA15</td>\n",
              "      <td>9.30</td>\n",
              "      <td>0.016047</td>\n",
              "      <td>249.8092</td>\n",
              "      <td>1999</td>\n",
              "      <td>3735.1380</td>\n",
              "      <td>0</td>\n",
              "      <td>1</td>\n",
              "      <td>0</td>\n",
              "      <td>0</td>\n",
              "      <td>0</td>\n",
              "      <td>0</td>\n",
              "      <td>0</td>\n",
              "      <td>0</td>\n",
              "      <td>0</td>\n",
              "      <td>1</td>\n",
              "      <td>0</td>\n",
              "      <td>0</td>\n",
              "      <td>0</td>\n",
              "      <td>0</td>\n",
              "      <td>0</td>\n",
              "      <td>0</td>\n",
              "      <td>0</td>\n",
              "      <td>0</td>\n",
              "      <td>0</td>\n",
              "      <td>0</td>\n",
              "      <td>0</td>\n",
              "      <td>0</td>\n",
              "      <td>0</td>\n",
              "      <td>0</td>\n",
              "      <td>0</td>\n",
              "      <td>0</td>\n",
              "      <td>0</td>\n",
              "      <td>0</td>\n",
              "      <td>0</td>\n",
              "      <td>0</td>\n",
              "      <td>1</td>\n",
              "      <td>0</td>\n",
              "      <td>1</td>\n",
              "      <td>0</td>\n",
              "      <td>1</td>\n",
              "      <td>0</td>\n",
              "      <td>0</td>\n",
              "      <td>0</td>\n",
              "      <td>1</td>\n",
              "      <td>0</td>\n",
              "      <td>0</td>\n",
              "    </tr>\n",
              "    <tr>\n",
              "      <th>1</th>\n",
              "      <td>DRC01</td>\n",
              "      <td>5.92</td>\n",
              "      <td>0.019278</td>\n",
              "      <td>48.2692</td>\n",
              "      <td>2009</td>\n",
              "      <td>443.4228</td>\n",
              "      <td>0</td>\n",
              "      <td>0</td>\n",
              "      <td>1</td>\n",
              "      <td>0</td>\n",
              "      <td>0</td>\n",
              "      <td>0</td>\n",
              "      <td>0</td>\n",
              "      <td>0</td>\n",
              "      <td>0</td>\n",
              "      <td>0</td>\n",
              "      <td>0</td>\n",
              "      <td>0</td>\n",
              "      <td>0</td>\n",
              "      <td>0</td>\n",
              "      <td>0</td>\n",
              "      <td>0</td>\n",
              "      <td>0</td>\n",
              "      <td>0</td>\n",
              "      <td>0</td>\n",
              "      <td>1</td>\n",
              "      <td>0</td>\n",
              "      <td>0</td>\n",
              "      <td>0</td>\n",
              "      <td>0</td>\n",
              "      <td>1</td>\n",
              "      <td>0</td>\n",
              "      <td>0</td>\n",
              "      <td>0</td>\n",
              "      <td>0</td>\n",
              "      <td>0</td>\n",
              "      <td>0</td>\n",
              "      <td>0</td>\n",
              "      <td>1</td>\n",
              "      <td>0</td>\n",
              "      <td>0</td>\n",
              "      <td>0</td>\n",
              "      <td>1</td>\n",
              "      <td>0</td>\n",
              "      <td>0</td>\n",
              "      <td>1</td>\n",
              "      <td>0</td>\n",
              "    </tr>\n",
              "    <tr>\n",
              "      <th>2</th>\n",
              "      <td>FDN15</td>\n",
              "      <td>17.50</td>\n",
              "      <td>0.016760</td>\n",
              "      <td>141.6180</td>\n",
              "      <td>1999</td>\n",
              "      <td>2097.2700</td>\n",
              "      <td>0</td>\n",
              "      <td>1</td>\n",
              "      <td>0</td>\n",
              "      <td>0</td>\n",
              "      <td>0</td>\n",
              "      <td>0</td>\n",
              "      <td>0</td>\n",
              "      <td>0</td>\n",
              "      <td>0</td>\n",
              "      <td>0</td>\n",
              "      <td>0</td>\n",
              "      <td>0</td>\n",
              "      <td>0</td>\n",
              "      <td>0</td>\n",
              "      <td>0</td>\n",
              "      <td>1</td>\n",
              "      <td>0</td>\n",
              "      <td>0</td>\n",
              "      <td>0</td>\n",
              "      <td>0</td>\n",
              "      <td>0</td>\n",
              "      <td>0</td>\n",
              "      <td>0</td>\n",
              "      <td>0</td>\n",
              "      <td>0</td>\n",
              "      <td>0</td>\n",
              "      <td>0</td>\n",
              "      <td>0</td>\n",
              "      <td>0</td>\n",
              "      <td>0</td>\n",
              "      <td>1</td>\n",
              "      <td>0</td>\n",
              "      <td>1</td>\n",
              "      <td>0</td>\n",
              "      <td>1</td>\n",
              "      <td>0</td>\n",
              "      <td>0</td>\n",
              "      <td>0</td>\n",
              "      <td>1</td>\n",
              "      <td>0</td>\n",
              "      <td>0</td>\n",
              "    </tr>\n",
              "    <tr>\n",
              "      <th>3</th>\n",
              "      <td>FDX07</td>\n",
              "      <td>19.20</td>\n",
              "      <td>0.000000</td>\n",
              "      <td>182.0950</td>\n",
              "      <td>1998</td>\n",
              "      <td>732.3800</td>\n",
              "      <td>0</td>\n",
              "      <td>0</td>\n",
              "      <td>1</td>\n",
              "      <td>0</td>\n",
              "      <td>0</td>\n",
              "      <td>0</td>\n",
              "      <td>0</td>\n",
              "      <td>0</td>\n",
              "      <td>0</td>\n",
              "      <td>0</td>\n",
              "      <td>0</td>\n",
              "      <td>1</td>\n",
              "      <td>0</td>\n",
              "      <td>0</td>\n",
              "      <td>0</td>\n",
              "      <td>0</td>\n",
              "      <td>0</td>\n",
              "      <td>0</td>\n",
              "      <td>0</td>\n",
              "      <td>0</td>\n",
              "      <td>0</td>\n",
              "      <td>1</td>\n",
              "      <td>0</td>\n",
              "      <td>0</td>\n",
              "      <td>0</td>\n",
              "      <td>0</td>\n",
              "      <td>0</td>\n",
              "      <td>0</td>\n",
              "      <td>0</td>\n",
              "      <td>0</td>\n",
              "      <td>0</td>\n",
              "      <td>0</td>\n",
              "      <td>1</td>\n",
              "      <td>0</td>\n",
              "      <td>0</td>\n",
              "      <td>0</td>\n",
              "      <td>1</td>\n",
              "      <td>1</td>\n",
              "      <td>0</td>\n",
              "      <td>0</td>\n",
              "      <td>0</td>\n",
              "    </tr>\n",
              "    <tr>\n",
              "      <th>4</th>\n",
              "      <td>NCD19</td>\n",
              "      <td>8.93</td>\n",
              "      <td>0.000000</td>\n",
              "      <td>53.8614</td>\n",
              "      <td>1987</td>\n",
              "      <td>994.7052</td>\n",
              "      <td>0</td>\n",
              "      <td>1</td>\n",
              "      <td>0</td>\n",
              "      <td>0</td>\n",
              "      <td>0</td>\n",
              "      <td>0</td>\n",
              "      <td>0</td>\n",
              "      <td>0</td>\n",
              "      <td>0</td>\n",
              "      <td>0</td>\n",
              "      <td>0</td>\n",
              "      <td>0</td>\n",
              "      <td>0</td>\n",
              "      <td>0</td>\n",
              "      <td>1</td>\n",
              "      <td>0</td>\n",
              "      <td>0</td>\n",
              "      <td>0</td>\n",
              "      <td>0</td>\n",
              "      <td>0</td>\n",
              "      <td>0</td>\n",
              "      <td>0</td>\n",
              "      <td>1</td>\n",
              "      <td>0</td>\n",
              "      <td>0</td>\n",
              "      <td>0</td>\n",
              "      <td>0</td>\n",
              "      <td>0</td>\n",
              "      <td>0</td>\n",
              "      <td>0</td>\n",
              "      <td>0</td>\n",
              "      <td>1</td>\n",
              "      <td>0</td>\n",
              "      <td>0</td>\n",
              "      <td>0</td>\n",
              "      <td>0</td>\n",
              "      <td>1</td>\n",
              "      <td>0</td>\n",
              "      <td>1</td>\n",
              "      <td>0</td>\n",
              "      <td>0</td>\n",
              "    </tr>\n",
              "  </tbody>\n",
              "</table>\n",
              "</div>"
            ],
            "text/plain": [
              "  Item_Identifier  ...  Outlet_Type_Supermarket Type3\n",
              "0           FDA15  ...                              0\n",
              "1           DRC01  ...                              0\n",
              "2           FDN15  ...                              0\n",
              "3           FDX07  ...                              0\n",
              "4           NCD19  ...                              0\n",
              "\n",
              "[5 rows x 47 columns]"
            ]
          },
          "metadata": {
            "tags": []
          },
          "execution_count": 24
        }
      ]
    },
    {
      "cell_type": "code",
      "metadata": {
        "id": "oiddTv3ld_fD"
      },
      "source": [
        "# df.dtypes"
      ],
      "execution_count": 25,
      "outputs": []
    },
    {
      "cell_type": "code",
      "metadata": {
        "id": "uclOpwf5eFMh"
      },
      "source": [
        "# We change the range of values to be between 0 and 1:"
      ],
      "execution_count": 26,
      "outputs": []
    },
    {
      "cell_type": "code",
      "metadata": {
        "id": "1WWrlPJRea67"
      },
      "source": [
        "for i in df.columns[1:]:\r\n",
        "  if df[i].max()>1 or df[i].min()<0:\r\n",
        "    df[i]=(df[i]-df[i].min())/(df[i].max()-df[i].min())"
      ],
      "execution_count": 27,
      "outputs": []
    },
    {
      "cell_type": "code",
      "metadata": {
        "colab": {
          "base_uri": "https://localhost:8080/",
          "height": 241
        },
        "id": "cdsz7E1wezxy",
        "outputId": "c3d25dfc-45e5-4897-da70-70a3e5d94761"
      },
      "source": [
        "df.head()"
      ],
      "execution_count": 28,
      "outputs": [
        {
          "output_type": "execute_result",
          "data": {
            "text/html": [
              "<div>\n",
              "<style scoped>\n",
              "    .dataframe tbody tr th:only-of-type {\n",
              "        vertical-align: middle;\n",
              "    }\n",
              "\n",
              "    .dataframe tbody tr th {\n",
              "        vertical-align: top;\n",
              "    }\n",
              "\n",
              "    .dataframe thead th {\n",
              "        text-align: right;\n",
              "    }\n",
              "</style>\n",
              "<table border=\"1\" class=\"dataframe\">\n",
              "  <thead>\n",
              "    <tr style=\"text-align: right;\">\n",
              "      <th></th>\n",
              "      <th>Item_Identifier</th>\n",
              "      <th>Item_Weight</th>\n",
              "      <th>Item_Visibility</th>\n",
              "      <th>Item_MRP</th>\n",
              "      <th>Outlet_Establishment_Year</th>\n",
              "      <th>Item_Outlet_Sales</th>\n",
              "      <th>Item_Fat_Content_LF</th>\n",
              "      <th>Item_Fat_Content_Low Fat</th>\n",
              "      <th>Item_Fat_Content_Regular</th>\n",
              "      <th>Item_Fat_Content_low fat</th>\n",
              "      <th>Item_Fat_Content_reg</th>\n",
              "      <th>Item_Type_Baking Goods</th>\n",
              "      <th>Item_Type_Breads</th>\n",
              "      <th>Item_Type_Breakfast</th>\n",
              "      <th>Item_Type_Canned</th>\n",
              "      <th>Item_Type_Dairy</th>\n",
              "      <th>Item_Type_Frozen Foods</th>\n",
              "      <th>Item_Type_Fruits and Vegetables</th>\n",
              "      <th>Item_Type_Hard Drinks</th>\n",
              "      <th>Item_Type_Health and Hygiene</th>\n",
              "      <th>Item_Type_Household</th>\n",
              "      <th>Item_Type_Meat</th>\n",
              "      <th>Item_Type_Others</th>\n",
              "      <th>Item_Type_Seafood</th>\n",
              "      <th>Item_Type_Snack Foods</th>\n",
              "      <th>Item_Type_Soft Drinks</th>\n",
              "      <th>Item_Type_Starchy Foods</th>\n",
              "      <th>Outlet_Identifier_OUT010</th>\n",
              "      <th>Outlet_Identifier_OUT013</th>\n",
              "      <th>Outlet_Identifier_OUT017</th>\n",
              "      <th>Outlet_Identifier_OUT018</th>\n",
              "      <th>Outlet_Identifier_OUT019</th>\n",
              "      <th>Outlet_Identifier_OUT027</th>\n",
              "      <th>Outlet_Identifier_OUT035</th>\n",
              "      <th>Outlet_Identifier_OUT045</th>\n",
              "      <th>Outlet_Identifier_OUT046</th>\n",
              "      <th>Outlet_Identifier_OUT049</th>\n",
              "      <th>Outlet_Size_High</th>\n",
              "      <th>Outlet_Size_Medium</th>\n",
              "      <th>Outlet_Size_Small</th>\n",
              "      <th>Outlet_Location_Type_Tier 1</th>\n",
              "      <th>Outlet_Location_Type_Tier 2</th>\n",
              "      <th>Outlet_Location_Type_Tier 3</th>\n",
              "      <th>Outlet_Type_Grocery Store</th>\n",
              "      <th>Outlet_Type_Supermarket Type1</th>\n",
              "      <th>Outlet_Type_Supermarket Type2</th>\n",
              "      <th>Outlet_Type_Supermarket Type3</th>\n",
              "    </tr>\n",
              "  </thead>\n",
              "  <tbody>\n",
              "    <tr>\n",
              "      <th>0</th>\n",
              "      <td>FDA15</td>\n",
              "      <td>0.282525</td>\n",
              "      <td>0.016047</td>\n",
              "      <td>0.927507</td>\n",
              "      <td>0.583333</td>\n",
              "      <td>0.283587</td>\n",
              "      <td>0</td>\n",
              "      <td>1</td>\n",
              "      <td>0</td>\n",
              "      <td>0</td>\n",
              "      <td>0</td>\n",
              "      <td>0</td>\n",
              "      <td>0</td>\n",
              "      <td>0</td>\n",
              "      <td>0</td>\n",
              "      <td>1</td>\n",
              "      <td>0</td>\n",
              "      <td>0</td>\n",
              "      <td>0</td>\n",
              "      <td>0</td>\n",
              "      <td>0</td>\n",
              "      <td>0</td>\n",
              "      <td>0</td>\n",
              "      <td>0</td>\n",
              "      <td>0</td>\n",
              "      <td>0</td>\n",
              "      <td>0</td>\n",
              "      <td>0</td>\n",
              "      <td>0</td>\n",
              "      <td>0</td>\n",
              "      <td>0</td>\n",
              "      <td>0</td>\n",
              "      <td>0</td>\n",
              "      <td>0</td>\n",
              "      <td>0</td>\n",
              "      <td>0</td>\n",
              "      <td>1</td>\n",
              "      <td>0</td>\n",
              "      <td>1</td>\n",
              "      <td>0</td>\n",
              "      <td>1</td>\n",
              "      <td>0</td>\n",
              "      <td>0</td>\n",
              "      <td>0</td>\n",
              "      <td>1</td>\n",
              "      <td>0</td>\n",
              "      <td>0</td>\n",
              "    </tr>\n",
              "    <tr>\n",
              "      <th>1</th>\n",
              "      <td>DRC01</td>\n",
              "      <td>0.081274</td>\n",
              "      <td>0.019278</td>\n",
              "      <td>0.072068</td>\n",
              "      <td>1.000000</td>\n",
              "      <td>0.031419</td>\n",
              "      <td>0</td>\n",
              "      <td>0</td>\n",
              "      <td>1</td>\n",
              "      <td>0</td>\n",
              "      <td>0</td>\n",
              "      <td>0</td>\n",
              "      <td>0</td>\n",
              "      <td>0</td>\n",
              "      <td>0</td>\n",
              "      <td>0</td>\n",
              "      <td>0</td>\n",
              "      <td>0</td>\n",
              "      <td>0</td>\n",
              "      <td>0</td>\n",
              "      <td>0</td>\n",
              "      <td>0</td>\n",
              "      <td>0</td>\n",
              "      <td>0</td>\n",
              "      <td>0</td>\n",
              "      <td>1</td>\n",
              "      <td>0</td>\n",
              "      <td>0</td>\n",
              "      <td>0</td>\n",
              "      <td>0</td>\n",
              "      <td>1</td>\n",
              "      <td>0</td>\n",
              "      <td>0</td>\n",
              "      <td>0</td>\n",
              "      <td>0</td>\n",
              "      <td>0</td>\n",
              "      <td>0</td>\n",
              "      <td>0</td>\n",
              "      <td>1</td>\n",
              "      <td>0</td>\n",
              "      <td>0</td>\n",
              "      <td>0</td>\n",
              "      <td>1</td>\n",
              "      <td>0</td>\n",
              "      <td>0</td>\n",
              "      <td>1</td>\n",
              "      <td>0</td>\n",
              "    </tr>\n",
              "    <tr>\n",
              "      <th>2</th>\n",
              "      <td>FDN15</td>\n",
              "      <td>0.770765</td>\n",
              "      <td>0.016760</td>\n",
              "      <td>0.468288</td>\n",
              "      <td>0.583333</td>\n",
              "      <td>0.158115</td>\n",
              "      <td>0</td>\n",
              "      <td>1</td>\n",
              "      <td>0</td>\n",
              "      <td>0</td>\n",
              "      <td>0</td>\n",
              "      <td>0</td>\n",
              "      <td>0</td>\n",
              "      <td>0</td>\n",
              "      <td>0</td>\n",
              "      <td>0</td>\n",
              "      <td>0</td>\n",
              "      <td>0</td>\n",
              "      <td>0</td>\n",
              "      <td>0</td>\n",
              "      <td>0</td>\n",
              "      <td>1</td>\n",
              "      <td>0</td>\n",
              "      <td>0</td>\n",
              "      <td>0</td>\n",
              "      <td>0</td>\n",
              "      <td>0</td>\n",
              "      <td>0</td>\n",
              "      <td>0</td>\n",
              "      <td>0</td>\n",
              "      <td>0</td>\n",
              "      <td>0</td>\n",
              "      <td>0</td>\n",
              "      <td>0</td>\n",
              "      <td>0</td>\n",
              "      <td>0</td>\n",
              "      <td>1</td>\n",
              "      <td>0</td>\n",
              "      <td>1</td>\n",
              "      <td>0</td>\n",
              "      <td>1</td>\n",
              "      <td>0</td>\n",
              "      <td>0</td>\n",
              "      <td>0</td>\n",
              "      <td>1</td>\n",
              "      <td>0</td>\n",
              "      <td>0</td>\n",
              "    </tr>\n",
              "    <tr>\n",
              "      <th>3</th>\n",
              "      <td>FDX07</td>\n",
              "      <td>0.871986</td>\n",
              "      <td>0.000000</td>\n",
              "      <td>0.640093</td>\n",
              "      <td>0.541667</td>\n",
              "      <td>0.053555</td>\n",
              "      <td>0</td>\n",
              "      <td>0</td>\n",
              "      <td>1</td>\n",
              "      <td>0</td>\n",
              "      <td>0</td>\n",
              "      <td>0</td>\n",
              "      <td>0</td>\n",
              "      <td>0</td>\n",
              "      <td>0</td>\n",
              "      <td>0</td>\n",
              "      <td>0</td>\n",
              "      <td>1</td>\n",
              "      <td>0</td>\n",
              "      <td>0</td>\n",
              "      <td>0</td>\n",
              "      <td>0</td>\n",
              "      <td>0</td>\n",
              "      <td>0</td>\n",
              "      <td>0</td>\n",
              "      <td>0</td>\n",
              "      <td>0</td>\n",
              "      <td>1</td>\n",
              "      <td>0</td>\n",
              "      <td>0</td>\n",
              "      <td>0</td>\n",
              "      <td>0</td>\n",
              "      <td>0</td>\n",
              "      <td>0</td>\n",
              "      <td>0</td>\n",
              "      <td>0</td>\n",
              "      <td>0</td>\n",
              "      <td>0</td>\n",
              "      <td>1</td>\n",
              "      <td>0</td>\n",
              "      <td>0</td>\n",
              "      <td>0</td>\n",
              "      <td>1</td>\n",
              "      <td>1</td>\n",
              "      <td>0</td>\n",
              "      <td>0</td>\n",
              "      <td>0</td>\n",
              "    </tr>\n",
              "    <tr>\n",
              "      <th>4</th>\n",
              "      <td>NCD19</td>\n",
              "      <td>0.260494</td>\n",
              "      <td>0.000000</td>\n",
              "      <td>0.095805</td>\n",
              "      <td>0.083333</td>\n",
              "      <td>0.073651</td>\n",
              "      <td>0</td>\n",
              "      <td>1</td>\n",
              "      <td>0</td>\n",
              "      <td>0</td>\n",
              "      <td>0</td>\n",
              "      <td>0</td>\n",
              "      <td>0</td>\n",
              "      <td>0</td>\n",
              "      <td>0</td>\n",
              "      <td>0</td>\n",
              "      <td>0</td>\n",
              "      <td>0</td>\n",
              "      <td>0</td>\n",
              "      <td>0</td>\n",
              "      <td>1</td>\n",
              "      <td>0</td>\n",
              "      <td>0</td>\n",
              "      <td>0</td>\n",
              "      <td>0</td>\n",
              "      <td>0</td>\n",
              "      <td>0</td>\n",
              "      <td>0</td>\n",
              "      <td>1</td>\n",
              "      <td>0</td>\n",
              "      <td>0</td>\n",
              "      <td>0</td>\n",
              "      <td>0</td>\n",
              "      <td>0</td>\n",
              "      <td>0</td>\n",
              "      <td>0</td>\n",
              "      <td>0</td>\n",
              "      <td>1</td>\n",
              "      <td>0</td>\n",
              "      <td>0</td>\n",
              "      <td>0</td>\n",
              "      <td>0</td>\n",
              "      <td>1</td>\n",
              "      <td>0</td>\n",
              "      <td>1</td>\n",
              "      <td>0</td>\n",
              "      <td>0</td>\n",
              "    </tr>\n",
              "  </tbody>\n",
              "</table>\n",
              "</div>"
            ],
            "text/plain": [
              "  Item_Identifier  ...  Outlet_Type_Supermarket Type3\n",
              "0           FDA15  ...                              0\n",
              "1           DRC01  ...                              0\n",
              "2           FDN15  ...                              0\n",
              "3           FDX07  ...                              0\n",
              "4           NCD19  ...                              0\n",
              "\n",
              "[5 rows x 47 columns]"
            ]
          },
          "metadata": {
            "tags": []
          },
          "execution_count": 28
        }
      ]
    },
    {
      "cell_type": "code",
      "metadata": {
        "colab": {
          "base_uri": "https://localhost:8080/"
        },
        "id": "zhWhXagKtS06",
        "outputId": "2b453683-f5e2-45a0-b4ae-58150ee0f1a1"
      },
      "source": [
        "df.dtypes"
      ],
      "execution_count": 29,
      "outputs": [
        {
          "output_type": "execute_result",
          "data": {
            "text/plain": [
              "Item_Identifier                     object\n",
              "Item_Weight                        float64\n",
              "Item_Visibility                    float64\n",
              "Item_MRP                           float64\n",
              "Outlet_Establishment_Year          float64\n",
              "Item_Outlet_Sales                  float64\n",
              "Item_Fat_Content_LF                  uint8\n",
              "Item_Fat_Content_Low Fat             uint8\n",
              "Item_Fat_Content_Regular             uint8\n",
              "Item_Fat_Content_low fat             uint8\n",
              "Item_Fat_Content_reg                 uint8\n",
              "Item_Type_Baking Goods               uint8\n",
              "Item_Type_Breads                     uint8\n",
              "Item_Type_Breakfast                  uint8\n",
              "Item_Type_Canned                     uint8\n",
              "Item_Type_Dairy                      uint8\n",
              "Item_Type_Frozen Foods               uint8\n",
              "Item_Type_Fruits and Vegetables      uint8\n",
              "Item_Type_Hard Drinks                uint8\n",
              "Item_Type_Health and Hygiene         uint8\n",
              "Item_Type_Household                  uint8\n",
              "Item_Type_Meat                       uint8\n",
              "Item_Type_Others                     uint8\n",
              "Item_Type_Seafood                    uint8\n",
              "Item_Type_Snack Foods                uint8\n",
              "Item_Type_Soft Drinks                uint8\n",
              "Item_Type_Starchy Foods              uint8\n",
              "Outlet_Identifier_OUT010             uint8\n",
              "Outlet_Identifier_OUT013             uint8\n",
              "Outlet_Identifier_OUT017             uint8\n",
              "Outlet_Identifier_OUT018             uint8\n",
              "Outlet_Identifier_OUT019             uint8\n",
              "Outlet_Identifier_OUT027             uint8\n",
              "Outlet_Identifier_OUT035             uint8\n",
              "Outlet_Identifier_OUT045             uint8\n",
              "Outlet_Identifier_OUT046             uint8\n",
              "Outlet_Identifier_OUT049             uint8\n",
              "Outlet_Size_High                     uint8\n",
              "Outlet_Size_Medium                   uint8\n",
              "Outlet_Size_Small                    uint8\n",
              "Outlet_Location_Type_Tier 1          uint8\n",
              "Outlet_Location_Type_Tier 2          uint8\n",
              "Outlet_Location_Type_Tier 3          uint8\n",
              "Outlet_Type_Grocery Store            uint8\n",
              "Outlet_Type_Supermarket Type1        uint8\n",
              "Outlet_Type_Supermarket Type2        uint8\n",
              "Outlet_Type_Supermarket Type3        uint8\n",
              "dtype: object"
            ]
          },
          "metadata": {
            "tags": []
          },
          "execution_count": 29
        }
      ]
    },
    {
      "cell_type": "code",
      "metadata": {
        "colab": {
          "base_uri": "https://localhost:8080/"
        },
        "id": "wowjPgmTpHX4",
        "outputId": "6fec7a25-681d-450a-a6be-76b94b3cb7bf"
      },
      "source": [
        "for i in df.columns[1:]:\r\n",
        "  print(i,df[i].max(),df[i].min(),df[i].median())"
      ],
      "execution_count": 30,
      "outputs": [
        {
          "output_type": "stream",
          "text": [
            "Item_Weight 1.0 0.0 0.49435219911498557\n",
            "Item_Visibility 0.328390948 0.0 0.05393093400000001\n",
            "Item_MRP 1.0 0.0 0.47420865336946266\n",
            "Outlet_Establishment_Year 1.0 0.0 0.5833333333333334\n",
            "Item_Outlet_Sales 1.0 0.0 0.1349076813220443\n",
            "Item_Fat_Content_LF 1 0 0.0\n",
            "Item_Fat_Content_Low Fat 1 0 1.0\n",
            "Item_Fat_Content_Regular 1 0 0.0\n",
            "Item_Fat_Content_low fat 1 0 0.0\n",
            "Item_Fat_Content_reg 1 0 0.0\n",
            "Item_Type_Baking Goods 1 0 0.0\n",
            "Item_Type_Breads 1 0 0.0\n",
            "Item_Type_Breakfast 1 0 0.0\n",
            "Item_Type_Canned 1 0 0.0\n",
            "Item_Type_Dairy 1 0 0.0\n",
            "Item_Type_Frozen Foods 1 0 0.0\n",
            "Item_Type_Fruits and Vegetables 1 0 0.0\n",
            "Item_Type_Hard Drinks 1 0 0.0\n",
            "Item_Type_Health and Hygiene 1 0 0.0\n",
            "Item_Type_Household 1 0 0.0\n",
            "Item_Type_Meat 1 0 0.0\n",
            "Item_Type_Others 1 0 0.0\n",
            "Item_Type_Seafood 1 0 0.0\n",
            "Item_Type_Snack Foods 1 0 0.0\n",
            "Item_Type_Soft Drinks 1 0 0.0\n",
            "Item_Type_Starchy Foods 1 0 0.0\n",
            "Outlet_Identifier_OUT010 1 0 0.0\n",
            "Outlet_Identifier_OUT013 1 0 0.0\n",
            "Outlet_Identifier_OUT017 1 0 0.0\n",
            "Outlet_Identifier_OUT018 1 0 0.0\n",
            "Outlet_Identifier_OUT019 1 0 0.0\n",
            "Outlet_Identifier_OUT027 1 0 0.0\n",
            "Outlet_Identifier_OUT035 1 0 0.0\n",
            "Outlet_Identifier_OUT045 1 0 0.0\n",
            "Outlet_Identifier_OUT046 1 0 0.0\n",
            "Outlet_Identifier_OUT049 1 0 0.0\n",
            "Outlet_Size_High 1 0 0.0\n",
            "Outlet_Size_Medium 1 0 1.0\n",
            "Outlet_Size_Small 1 0 0.0\n",
            "Outlet_Location_Type_Tier 1 1 0 0.0\n",
            "Outlet_Location_Type_Tier 2 1 0 0.0\n",
            "Outlet_Location_Type_Tier 3 1 0 0.0\n",
            "Outlet_Type_Grocery Store 1 0 0.0\n",
            "Outlet_Type_Supermarket Type1 1 0 1.0\n",
            "Outlet_Type_Supermarket Type2 1 0 0.0\n",
            "Outlet_Type_Supermarket Type3 1 0 0.0\n"
          ],
          "name": "stdout"
        }
      ]
    },
    {
      "cell_type": "code",
      "metadata": {
        "id": "S8xIIMY_gAVu"
      },
      "source": [
        "#Prepairing our train and test datasets:"
      ],
      "execution_count": 31,
      "outputs": []
    },
    {
      "cell_type": "markdown",
      "metadata": {
        "id": "OQBKuFfnVL9F"
      },
      "source": [
        "#Prepairing the train and test datas"
      ]
    },
    {
      "cell_type": "code",
      "metadata": {
        "id": "xvUm8S9bfXk8"
      },
      "source": [
        "import sklearn\r\n",
        "from sklearn.model_selection import  train_test_split\r\n",
        "from sklearn.metrics import accuracy_score"
      ],
      "execution_count": 32,
      "outputs": []
    },
    {
      "cell_type": "code",
      "metadata": {
        "id": "ZjiYukMch9Kk"
      },
      "source": [
        ""
      ],
      "execution_count": 32,
      "outputs": []
    },
    {
      "cell_type": "code",
      "metadata": {
        "id": "p7EuhfASge2P"
      },
      "source": [
        "df=df.drop('Item_Identifier',axis=1)"
      ],
      "execution_count": 33,
      "outputs": []
    },
    {
      "cell_type": "code",
      "metadata": {
        "id": "zlWXsGhFlwIE"
      },
      "source": [
        "Y=df.Item_Outlet_Sales"
      ],
      "execution_count": 34,
      "outputs": []
    },
    {
      "cell_type": "code",
      "metadata": {
        "id": "n22QEElffmh4"
      },
      "source": [
        "X=df.drop('Item_Outlet_Sales',axis=1)"
      ],
      "execution_count": 35,
      "outputs": []
    },
    {
      "cell_type": "code",
      "metadata": {
        "id": "WhVmjAoYlek7"
      },
      "source": [
        "X_train,X_test,y_train,y_test=train_test_split(X,Y,random_state=10,test_size=.2)"
      ],
      "execution_count": 36,
      "outputs": []
    },
    {
      "cell_type": "code",
      "metadata": {
        "colab": {
          "base_uri": "https://localhost:8080/"
        },
        "id": "06pMKChwmWeO",
        "outputId": "3a1680d3-5b7f-4c9d-a3ab-404225e55414"
      },
      "source": [
        "X_train.shape,y_train.shape"
      ],
      "execution_count": 37,
      "outputs": [
        {
          "output_type": "execute_result",
          "data": {
            "text/plain": [
              "((6818, 45), (6818,))"
            ]
          },
          "metadata": {
            "tags": []
          },
          "execution_count": 37
        }
      ]
    },
    {
      "cell_type": "code",
      "metadata": {
        "colab": {
          "base_uri": "https://localhost:8080/"
        },
        "id": "WHoGH8VwmbER",
        "outputId": "58c5ddf1-f6ad-42b4-ff56-bcdcd9c282e3"
      },
      "source": [
        "X_test.shape,y_test.shape"
      ],
      "execution_count": 38,
      "outputs": [
        {
          "output_type": "execute_result",
          "data": {
            "text/plain": [
              "((1705, 45), (1705,))"
            ]
          },
          "metadata": {
            "tags": []
          },
          "execution_count": 38
        }
      ]
    },
    {
      "cell_type": "markdown",
      "metadata": {
        "id": "cRsMzaqtVXcm"
      },
      "source": [
        "#Prepairing the model:"
      ]
    },
    {
      "cell_type": "code",
      "metadata": {
        "id": "WSp3KnXPVTa0"
      },
      "source": [
        ""
      ],
      "execution_count": 38,
      "outputs": []
    },
    {
      "cell_type": "code",
      "metadata": {
        "id": "u1I1pHN4mfYZ"
      },
      "source": [
        "#We make our model:"
      ],
      "execution_count": 39,
      "outputs": []
    },
    {
      "cell_type": "code",
      "metadata": {
        "id": "QqfPVzsBmk_K"
      },
      "source": [
        "import keras\r\n",
        "import tensorflow as tf\r\n"
      ],
      "execution_count": 40,
      "outputs": []
    },
    {
      "cell_type": "code",
      "metadata": {
        "id": "_mXfhleUmyL3"
      },
      "source": [
        "from keras.models import Sequential\r\n",
        "from keras.layers import InputLayer,Dense"
      ],
      "execution_count": 41,
      "outputs": []
    },
    {
      "cell_type": "code",
      "metadata": {
        "colab": {
          "base_uri": "https://localhost:8080/"
        },
        "id": "ap09bORsBefE",
        "outputId": "267eee5a-2537-4971-c1be-639dddea2564"
      },
      "source": [
        "X_test.shape[1]"
      ],
      "execution_count": 42,
      "outputs": [
        {
          "output_type": "execute_result",
          "data": {
            "text/plain": [
              "45"
            ]
          },
          "metadata": {
            "tags": []
          },
          "execution_count": 42
        }
      ]
    },
    {
      "cell_type": "code",
      "metadata": {
        "id": "AninMD2XnR4G"
      },
      "source": [
        "input_neurons=X_test.shape[1]\r\n",
        "layer_1_neurons=9\r\n",
        "layer_2_neurons=5\r\n",
        "output_neurons=1"
      ],
      "execution_count": 43,
      "outputs": []
    },
    {
      "cell_type": "code",
      "metadata": {
        "id": "x2Cj8KwKnmkc"
      },
      "source": [
        "model=Sequential()\r\n",
        "model.add(InputLayer(input_shape=input_neurons,))\r\n",
        "model.add(Dense(units=layer_1_neurons,activation='relu'))\r\n",
        "model.add(Dense(units=layer_2_neurons,activation='relu'))\r\n",
        "model.add(Dense(units=output_neurons,activation='linear'))"
      ],
      "execution_count": 44,
      "outputs": []
    },
    {
      "cell_type": "code",
      "metadata": {
        "colab": {
          "base_uri": "https://localhost:8080/"
        },
        "id": "SOvu3Thvoevt",
        "outputId": "91bd921b-efab-472d-e7af-56b56d5787da"
      },
      "source": [
        "model.summary()"
      ],
      "execution_count": 45,
      "outputs": [
        {
          "output_type": "stream",
          "text": [
            "Model: \"sequential\"\n",
            "_________________________________________________________________\n",
            "Layer (type)                 Output Shape              Param #   \n",
            "=================================================================\n",
            "dense (Dense)                (None, 9)                 414       \n",
            "_________________________________________________________________\n",
            "dense_1 (Dense)              (None, 5)                 50        \n",
            "_________________________________________________________________\n",
            "dense_2 (Dense)              (None, 1)                 6         \n",
            "=================================================================\n",
            "Total params: 470\n",
            "Trainable params: 470\n",
            "Non-trainable params: 0\n",
            "_________________________________________________________________\n"
          ],
          "name": "stdout"
        }
      ]
    },
    {
      "cell_type": "code",
      "metadata": {
        "id": "CYoQ9kvZoij9"
      },
      "source": [
        "model.compile(optimizer='rmsprop',loss='mean_absolute_error',metrics=['mean_absolute_error'])"
      ],
      "execution_count": 46,
      "outputs": []
    },
    {
      "cell_type": "code",
      "metadata": {
        "colab": {
          "base_uri": "https://localhost:8080/"
        },
        "id": "YZAGHI7fqFNm",
        "outputId": "22ac6556-b362-4aaa-d953-76bce52ba34b"
      },
      "source": [
        "model_history=model.fit(X_train,y_train, validation_data=(X_test,y_test),epochs=60)"
      ],
      "execution_count": 47,
      "outputs": [
        {
          "output_type": "stream",
          "text": [
            "Epoch 1/60\n",
            "214/214 [==============================] - 1s 3ms/step - loss: 0.2022 - mean_absolute_error: 0.2022 - val_loss: 0.0976 - val_mean_absolute_error: 0.0976\n",
            "Epoch 2/60\n",
            "214/214 [==============================] - 0s 1ms/step - loss: 0.0931 - mean_absolute_error: 0.0931 - val_loss: 0.0880 - val_mean_absolute_error: 0.0880\n",
            "Epoch 3/60\n",
            "214/214 [==============================] - 0s 2ms/step - loss: 0.0877 - mean_absolute_error: 0.0877 - val_loss: 0.0868 - val_mean_absolute_error: 0.0868\n",
            "Epoch 4/60\n",
            "214/214 [==============================] - 0s 1ms/step - loss: 0.0855 - mean_absolute_error: 0.0855 - val_loss: 0.0824 - val_mean_absolute_error: 0.0824\n",
            "Epoch 5/60\n",
            "214/214 [==============================] - 0s 1ms/step - loss: 0.0800 - mean_absolute_error: 0.0800 - val_loss: 0.0752 - val_mean_absolute_error: 0.0752\n",
            "Epoch 6/60\n",
            "214/214 [==============================] - 0s 1ms/step - loss: 0.0728 - mean_absolute_error: 0.0728 - val_loss: 0.0679 - val_mean_absolute_error: 0.0679\n",
            "Epoch 7/60\n",
            "214/214 [==============================] - 0s 1ms/step - loss: 0.0665 - mean_absolute_error: 0.0665 - val_loss: 0.0652 - val_mean_absolute_error: 0.0652\n",
            "Epoch 8/60\n",
            "214/214 [==============================] - 0s 1ms/step - loss: 0.0645 - mean_absolute_error: 0.0645 - val_loss: 0.0639 - val_mean_absolute_error: 0.0639\n",
            "Epoch 9/60\n",
            "214/214 [==============================] - 0s 1ms/step - loss: 0.0628 - mean_absolute_error: 0.0628 - val_loss: 0.0634 - val_mean_absolute_error: 0.0634\n",
            "Epoch 10/60\n",
            "214/214 [==============================] - 0s 1ms/step - loss: 0.0626 - mean_absolute_error: 0.0626 - val_loss: 0.0629 - val_mean_absolute_error: 0.0629\n",
            "Epoch 11/60\n",
            "214/214 [==============================] - 0s 1ms/step - loss: 0.0622 - mean_absolute_error: 0.0622 - val_loss: 0.0635 - val_mean_absolute_error: 0.0635\n",
            "Epoch 12/60\n",
            "214/214 [==============================] - 0s 1ms/step - loss: 0.0637 - mean_absolute_error: 0.0637 - val_loss: 0.0641 - val_mean_absolute_error: 0.0641\n",
            "Epoch 13/60\n",
            "214/214 [==============================] - 0s 1ms/step - loss: 0.0627 - mean_absolute_error: 0.0627 - val_loss: 0.0614 - val_mean_absolute_error: 0.0614\n",
            "Epoch 14/60\n",
            "214/214 [==============================] - 0s 2ms/step - loss: 0.0612 - mean_absolute_error: 0.0612 - val_loss: 0.0616 - val_mean_absolute_error: 0.0616\n",
            "Epoch 15/60\n",
            "214/214 [==============================] - 0s 2ms/step - loss: 0.0605 - mean_absolute_error: 0.0605 - val_loss: 0.0607 - val_mean_absolute_error: 0.0607\n",
            "Epoch 16/60\n",
            "214/214 [==============================] - 0s 1ms/step - loss: 0.0594 - mean_absolute_error: 0.0594 - val_loss: 0.0616 - val_mean_absolute_error: 0.0616\n",
            "Epoch 17/60\n",
            "214/214 [==============================] - 0s 1ms/step - loss: 0.0596 - mean_absolute_error: 0.0596 - val_loss: 0.0633 - val_mean_absolute_error: 0.0633\n",
            "Epoch 18/60\n",
            "214/214 [==============================] - 0s 2ms/step - loss: 0.0607 - mean_absolute_error: 0.0607 - val_loss: 0.0641 - val_mean_absolute_error: 0.0641\n",
            "Epoch 19/60\n",
            "214/214 [==============================] - 0s 1ms/step - loss: 0.0593 - mean_absolute_error: 0.0593 - val_loss: 0.0603 - val_mean_absolute_error: 0.0603\n",
            "Epoch 20/60\n",
            "214/214 [==============================] - 0s 1ms/step - loss: 0.0598 - mean_absolute_error: 0.0598 - val_loss: 0.0617 - val_mean_absolute_error: 0.0617\n",
            "Epoch 21/60\n",
            "214/214 [==============================] - 0s 1ms/step - loss: 0.0588 - mean_absolute_error: 0.0588 - val_loss: 0.0601 - val_mean_absolute_error: 0.0601\n",
            "Epoch 22/60\n",
            "214/214 [==============================] - 0s 1ms/step - loss: 0.0597 - mean_absolute_error: 0.0597 - val_loss: 0.0602 - val_mean_absolute_error: 0.0602\n",
            "Epoch 23/60\n",
            "214/214 [==============================] - 0s 2ms/step - loss: 0.0581 - mean_absolute_error: 0.0581 - val_loss: 0.0616 - val_mean_absolute_error: 0.0616\n",
            "Epoch 24/60\n",
            "214/214 [==============================] - 0s 1ms/step - loss: 0.0588 - mean_absolute_error: 0.0588 - val_loss: 0.0601 - val_mean_absolute_error: 0.0601\n",
            "Epoch 25/60\n",
            "214/214 [==============================] - 0s 1ms/step - loss: 0.0595 - mean_absolute_error: 0.0595 - val_loss: 0.0601 - val_mean_absolute_error: 0.0601\n",
            "Epoch 26/60\n",
            "214/214 [==============================] - 0s 2ms/step - loss: 0.0579 - mean_absolute_error: 0.0579 - val_loss: 0.0598 - val_mean_absolute_error: 0.0598\n",
            "Epoch 27/60\n",
            "214/214 [==============================] - 0s 1ms/step - loss: 0.0585 - mean_absolute_error: 0.0585 - val_loss: 0.0596 - val_mean_absolute_error: 0.0596\n",
            "Epoch 28/60\n",
            "214/214 [==============================] - 0s 1ms/step - loss: 0.0590 - mean_absolute_error: 0.0590 - val_loss: 0.0608 - val_mean_absolute_error: 0.0608\n",
            "Epoch 29/60\n",
            "214/214 [==============================] - 0s 1ms/step - loss: 0.0587 - mean_absolute_error: 0.0587 - val_loss: 0.0617 - val_mean_absolute_error: 0.0617\n",
            "Epoch 30/60\n",
            "214/214 [==============================] - 0s 1ms/step - loss: 0.0580 - mean_absolute_error: 0.0580 - val_loss: 0.0601 - val_mean_absolute_error: 0.0601\n",
            "Epoch 31/60\n",
            "214/214 [==============================] - 0s 1ms/step - loss: 0.0579 - mean_absolute_error: 0.0579 - val_loss: 0.0606 - val_mean_absolute_error: 0.0606\n",
            "Epoch 32/60\n",
            "214/214 [==============================] - 0s 1ms/step - loss: 0.0592 - mean_absolute_error: 0.0592 - val_loss: 0.0596 - val_mean_absolute_error: 0.0596\n",
            "Epoch 33/60\n",
            "214/214 [==============================] - 0s 1ms/step - loss: 0.0582 - mean_absolute_error: 0.0582 - val_loss: 0.0607 - val_mean_absolute_error: 0.0607\n",
            "Epoch 34/60\n",
            "214/214 [==============================] - 0s 1ms/step - loss: 0.0583 - mean_absolute_error: 0.0583 - val_loss: 0.0599 - val_mean_absolute_error: 0.0599\n",
            "Epoch 35/60\n",
            "214/214 [==============================] - 0s 1ms/step - loss: 0.0586 - mean_absolute_error: 0.0586 - val_loss: 0.0604 - val_mean_absolute_error: 0.0604\n",
            "Epoch 36/60\n",
            "214/214 [==============================] - 0s 1ms/step - loss: 0.0585 - mean_absolute_error: 0.0585 - val_loss: 0.0591 - val_mean_absolute_error: 0.0591\n",
            "Epoch 37/60\n",
            "214/214 [==============================] - 0s 1ms/step - loss: 0.0583 - mean_absolute_error: 0.0583 - val_loss: 0.0618 - val_mean_absolute_error: 0.0618\n",
            "Epoch 38/60\n",
            "214/214 [==============================] - 0s 1ms/step - loss: 0.0583 - mean_absolute_error: 0.0583 - val_loss: 0.0592 - val_mean_absolute_error: 0.0592\n",
            "Epoch 39/60\n",
            "214/214 [==============================] - 0s 1ms/step - loss: 0.0582 - mean_absolute_error: 0.0582 - val_loss: 0.0599 - val_mean_absolute_error: 0.0599\n",
            "Epoch 40/60\n",
            "214/214 [==============================] - 0s 1ms/step - loss: 0.0591 - mean_absolute_error: 0.0591 - val_loss: 0.0604 - val_mean_absolute_error: 0.0604\n",
            "Epoch 41/60\n",
            "214/214 [==============================] - 0s 1ms/step - loss: 0.0587 - mean_absolute_error: 0.0587 - val_loss: 0.0592 - val_mean_absolute_error: 0.0592\n",
            "Epoch 42/60\n",
            "214/214 [==============================] - 0s 1ms/step - loss: 0.0600 - mean_absolute_error: 0.0600 - val_loss: 0.0595 - val_mean_absolute_error: 0.0595\n",
            "Epoch 43/60\n",
            "214/214 [==============================] - 0s 1ms/step - loss: 0.0583 - mean_absolute_error: 0.0583 - val_loss: 0.0620 - val_mean_absolute_error: 0.0620\n",
            "Epoch 44/60\n",
            "214/214 [==============================] - 0s 1ms/step - loss: 0.0581 - mean_absolute_error: 0.0581 - val_loss: 0.0602 - val_mean_absolute_error: 0.0602\n",
            "Epoch 45/60\n",
            "214/214 [==============================] - 0s 1ms/step - loss: 0.0587 - mean_absolute_error: 0.0587 - val_loss: 0.0591 - val_mean_absolute_error: 0.0591\n",
            "Epoch 46/60\n",
            "214/214 [==============================] - 0s 1ms/step - loss: 0.0563 - mean_absolute_error: 0.0563 - val_loss: 0.0591 - val_mean_absolute_error: 0.0591\n",
            "Epoch 47/60\n",
            "214/214 [==============================] - 0s 1ms/step - loss: 0.0568 - mean_absolute_error: 0.0568 - val_loss: 0.0583 - val_mean_absolute_error: 0.0583\n",
            "Epoch 48/60\n",
            "214/214 [==============================] - 0s 1ms/step - loss: 0.0585 - mean_absolute_error: 0.0585 - val_loss: 0.0603 - val_mean_absolute_error: 0.0603\n",
            "Epoch 49/60\n",
            "214/214 [==============================] - 0s 1ms/step - loss: 0.0582 - mean_absolute_error: 0.0582 - val_loss: 0.0581 - val_mean_absolute_error: 0.0581\n",
            "Epoch 50/60\n",
            "214/214 [==============================] - 0s 2ms/step - loss: 0.0570 - mean_absolute_error: 0.0570 - val_loss: 0.0610 - val_mean_absolute_error: 0.0610\n",
            "Epoch 51/60\n",
            "214/214 [==============================] - 0s 1ms/step - loss: 0.0573 - mean_absolute_error: 0.0573 - val_loss: 0.0589 - val_mean_absolute_error: 0.0589\n",
            "Epoch 52/60\n",
            "214/214 [==============================] - 0s 1ms/step - loss: 0.0576 - mean_absolute_error: 0.0576 - val_loss: 0.0585 - val_mean_absolute_error: 0.0585\n",
            "Epoch 53/60\n",
            "214/214 [==============================] - 0s 1ms/step - loss: 0.0580 - mean_absolute_error: 0.0580 - val_loss: 0.0581 - val_mean_absolute_error: 0.0581\n",
            "Epoch 54/60\n",
            "214/214 [==============================] - 0s 1ms/step - loss: 0.0567 - mean_absolute_error: 0.0567 - val_loss: 0.0584 - val_mean_absolute_error: 0.0584\n",
            "Epoch 55/60\n",
            "214/214 [==============================] - 0s 1ms/step - loss: 0.0565 - mean_absolute_error: 0.0565 - val_loss: 0.0582 - val_mean_absolute_error: 0.0582\n",
            "Epoch 56/60\n",
            "214/214 [==============================] - 0s 1ms/step - loss: 0.0572 - mean_absolute_error: 0.0572 - val_loss: 0.0580 - val_mean_absolute_error: 0.0580\n",
            "Epoch 57/60\n",
            "214/214 [==============================] - 0s 1ms/step - loss: 0.0573 - mean_absolute_error: 0.0573 - val_loss: 0.0579 - val_mean_absolute_error: 0.0579\n",
            "Epoch 58/60\n",
            "214/214 [==============================] - 0s 2ms/step - loss: 0.0577 - mean_absolute_error: 0.0577 - val_loss: 0.0609 - val_mean_absolute_error: 0.0609\n",
            "Epoch 59/60\n",
            "214/214 [==============================] - 0s 1ms/step - loss: 0.0581 - mean_absolute_error: 0.0581 - val_loss: 0.0586 - val_mean_absolute_error: 0.0586\n",
            "Epoch 60/60\n",
            "214/214 [==============================] - 0s 1ms/step - loss: 0.0590 - mean_absolute_error: 0.0590 - val_loss: 0.0623 - val_mean_absolute_error: 0.0623\n"
          ],
          "name": "stdout"
        }
      ]
    },
    {
      "cell_type": "markdown",
      "metadata": {
        "id": "7zC2Px6MVeBv"
      },
      "source": [
        "#Estimating the results:"
      ]
    },
    {
      "cell_type": "code",
      "metadata": {
        "id": "T_MEravtChlh"
      },
      "source": [
        "pred=model.predict(X_test)"
      ],
      "execution_count": 48,
      "outputs": []
    },
    {
      "cell_type": "code",
      "metadata": {
        "colab": {
          "base_uri": "https://localhost:8080/"
        },
        "id": "3m-FyN3DNzbJ",
        "outputId": "76bac5f5-b5e2-4d21-a77c-e93c0f2943ad"
      },
      "source": [
        "y_test.shape"
      ],
      "execution_count": 49,
      "outputs": [
        {
          "output_type": "execute_result",
          "data": {
            "text/plain": [
              "(1705,)"
            ]
          },
          "metadata": {
            "tags": []
          },
          "execution_count": 49
        }
      ]
    },
    {
      "cell_type": "code",
      "metadata": {
        "colab": {
          "base_uri": "https://localhost:8080/"
        },
        "id": "LTnOjtKwN2PG",
        "outputId": "4889d077-9745-442d-d4b6-9f174fd7f88f"
      },
      "source": [
        "pred.shape"
      ],
      "execution_count": 50,
      "outputs": [
        {
          "output_type": "execute_result",
          "data": {
            "text/plain": [
              "(1705, 1)"
            ]
          },
          "metadata": {
            "tags": []
          },
          "execution_count": 50
        }
      ]
    },
    {
      "cell_type": "code",
      "metadata": {
        "colab": {
          "base_uri": "https://localhost:8080/"
        },
        "id": "RqpPNA82G6JK",
        "outputId": "be548a34-671b-422f-ed9a-1704550c704a"
      },
      "source": [
        "kk=5\r\n",
        "\r\n",
        "print(pred[kk].tolist(),y_test.values[kk])\r\n",
        "\r\n"
      ],
      "execution_count": 51,
      "outputs": [
        {
          "output_type": "stream",
          "text": [
            "[0.2181558609008789] 0.19407324288483122\n"
          ],
          "name": "stdout"
        }
      ]
    },
    {
      "cell_type": "code",
      "metadata": {
        "colab": {
          "base_uri": "https://localhost:8080/"
        },
        "id": "wv6b4x9gH-kH",
        "outputId": "df3e0ac6-5ba8-411d-b16c-fbd425d32e2c"
      },
      "source": [
        "pred.mean(),y_test.mean()"
      ],
      "execution_count": 52,
      "outputs": [
        {
          "output_type": "execute_result",
          "data": {
            "text/plain": [
              "(0.18499118, 0.16638975500647188)"
            ]
          },
          "metadata": {
            "tags": []
          },
          "execution_count": 52
        }
      ]
    },
    {
      "cell_type": "code",
      "metadata": {
        "colab": {
          "base_uri": "https://localhost:8080/"
        },
        "id": "4za22I44IHPs",
        "outputId": "57d9c012-7592-4395-cbd3-f24a461cfec0"
      },
      "source": [
        "from sklearn.metrics import mean_absolute_error\r\n",
        "mean_absolute_error(y_test.values, pred.reshape(-1))"
      ],
      "execution_count": 75,
      "outputs": [
        {
          "output_type": "execute_result",
          "data": {
            "text/plain": [
              "0.0623128155901553"
            ]
          },
          "metadata": {
            "tags": []
          },
          "execution_count": 75
        }
      ]
    },
    {
      "cell_type": "code",
      "metadata": {
        "colab": {
          "base_uri": "https://localhost:8080/"
        },
        "id": "YWK0igaNtcny",
        "outputId": "93b95d46-92d3-422d-d858-94c78ccd1e67"
      },
      "source": [
        "\r\n",
        "ns = y_test.values.shape[0]\r\n",
        "(np.abs(y_test.values - pred.reshape(-1))/np.max([y_test.values, np.full(ns,.00001)], axis=0)).sum()/ns\r\n",
        "\r\n"
      ],
      "execution_count": 76,
      "outputs": [
        {
          "output_type": "execute_result",
          "data": {
            "text/plain": [
              "1.5606570969191096"
            ]
          },
          "metadata": {
            "tags": []
          },
          "execution_count": 76
        }
      ]
    },
    {
      "cell_type": "code",
      "metadata": {
        "id": "IEsj7E9vjVA7"
      },
      "source": [
        "# !pip install --upgrade scikit-learn"
      ],
      "execution_count": 77,
      "outputs": []
    },
    {
      "cell_type": "code",
      "metadata": {
        "id": "fak9Swzhhc1H"
      },
      "source": [
        "from sklearn.metrics import mean_absolute_percentage_error\r\n"
      ],
      "execution_count": 59,
      "outputs": []
    },
    {
      "cell_type": "code",
      "metadata": {
        "id": "CikLURB2lQKh"
      },
      "source": [
        "# pred.reshape(-1).dtype"
      ],
      "execution_count": 110,
      "outputs": []
    },
    {
      "cell_type": "code",
      "metadata": {
        "id": "MOkLrpOElpo8"
      },
      "source": [
        "# y_test.values.dtype\r\n"
      ],
      "execution_count": 109,
      "outputs": []
    },
    {
      "cell_type": "code",
      "metadata": {
        "id": "OSHH8o-ckyyM"
      },
      "source": [
        "# mean_absolute_percentage_error(y_test.values, pred.reshape(-1))"
      ],
      "execution_count": 108,
      "outputs": []
    },
    {
      "cell_type": "code",
      "metadata": {
        "colab": {
          "base_uri": "https://localhost:8080/"
        },
        "id": "yQnmtLt3CrmC",
        "outputId": "70bb7aea-6029-4a0c-b455-1460144b8109"
      },
      "source": [
        "from sklearn.metrics import r2_score,accuracy_score\r\n",
        "r2_score(y_test,pred)"
      ],
      "execution_count": 111,
      "outputs": [
        {
          "output_type": "execute_result",
          "data": {
            "text/plain": [
              "0.5838362769928209"
            ]
          },
          "metadata": {
            "tags": []
          },
          "execution_count": 111
        }
      ]
    },
    {
      "cell_type": "code",
      "metadata": {
        "id": "WDrk5pBqqXWG"
      },
      "source": [
        "import seaborn as sns"
      ],
      "execution_count": 112,
      "outputs": []
    },
    {
      "cell_type": "code",
      "metadata": {
        "colab": {
          "base_uri": "https://localhost:8080/",
          "height": 421
        },
        "id": "HYRitVBps34u",
        "outputId": "32c3c494-14cb-4897-bc61-18279f520561"
      },
      "source": [
        "fig = plt.figure(figsize=(10,6))\r\n",
        "sns.lineplot(data=[model_history.history['mean_absolute_error'],model_history.history['val_mean_absolute_error']],palette=['green','blue'],legend=False)\r\n",
        "fig.legend(labels=['Train_MAE','Validation_MAE'])\r\n",
        "\r\n",
        "plt.show()"
      ],
      "execution_count": 113,
      "outputs": [
        {
          "output_type": "display_data",
          "data": {
            "image/png": "[encoded data removed]",
            "text/plain": [
              "<Figure size 720x432 with 1 Axes>"
            ]
          },
          "metadata": {
            "tags": [],
            "needs_background": "light"
          }
        }
      ]
    },
    {
      "cell_type": "code",
      "metadata": {
        "id": "1gzSF1wvuPdw",
        "colab": {
          "base_uri": "https://localhost:8080/",
          "height": 279
        },
        "outputId": "99540426-12aa-4a6d-c57e-7d3861607169"
      },
      "source": [
        "\r\n",
        "g=sns.lineplot(data=[model_history.history['mean_absolute_error'],model_history.history['val_mean_absolute_error']],legend = False)\r\n",
        "g.set(xlabel='epochs',ylabel='MAE')\r\n",
        "plt.legend( loc='upper right', labels=['Train_MAE', 'Validation_MAE'])\r\n",
        "plt.show(g)\r\n"
      ],
      "execution_count": 114,
      "outputs": [
        {
          "output_type": "display_data",
          "data": {
            "image/png": "[encoded data removed]",
            "text/plain": [
              "<Figure size 432x288 with 1 Axes>"
            ]
          },
          "metadata": {
            "tags": [],
            "needs_background": "light"
          }
        }
      ]
    },
    {
      "cell_type": "code",
      "metadata": {
        "id": "b4zMPd_GFepL"
      },
      "source": [
        "from sklearn.ensemble import RandomForestRegressor\r\n",
        "from sklearn.datasets import make_regression"
      ],
      "execution_count": 115,
      "outputs": []
    },
    {
      "cell_type": "code",
      "metadata": {
        "colab": {
          "base_uri": "https://localhost:8080/"
        },
        "id": "O7yoAnbjpbHe",
        "outputId": "ba8020fc-2584-41a1-b045-c7ec72a2d82d"
      },
      "source": [
        "regr = RandomForestRegressor( random_state=0)\r\n",
        "regr.fit(X_train, y_train)\r\n",
        "\r\n"
      ],
      "execution_count": 127,
      "outputs": [
        {
          "output_type": "execute_result",
          "data": {
            "text/plain": [
              "RandomForestRegressor(random_state=0)"
            ]
          },
          "metadata": {
            "tags": []
          },
          "execution_count": 127
        }
      ]
    },
    {
      "cell_type": "code",
      "metadata": {
        "id": "yzux7jSuppFZ"
      },
      "source": [
        "y_pred=regr.predict(X_test)"
      ],
      "execution_count": 128,
      "outputs": []
    },
    {
      "cell_type": "code",
      "metadata": {
        "colab": {
          "base_uri": "https://localhost:8080/"
        },
        "id": "UfP_WLRLp2cC",
        "outputId": "7b03dfc8-c74a-4864-e82c-9de801ad01c8"
      },
      "source": [
        "r2_score(y_test,y_pred)"
      ],
      "execution_count": 129,
      "outputs": [
        {
          "output_type": "execute_result",
          "data": {
            "text/plain": [
              "0.5702821424304685"
            ]
          },
          "metadata": {
            "tags": []
          },
          "execution_count": 129
        }
      ]
    },
    {
      "cell_type": "code",
      "metadata": {
        "id": "RpoonIBmp8Gf"
      },
      "source": [
        "# for i in range(10):\r\n",
        "#   print(y_test.values[i],y_pred[i])"
      ],
      "execution_count": 133,
      "outputs": []
    },
    {
      "cell_type": "code",
      "metadata": {
        "id": "wM2-KCFJqXkv"
      },
      "source": [
        ""
      ],
      "execution_count": 132,
      "outputs": []
    },
    {
      "cell_type": "code",
      "metadata": {
        "id": "bxcuBz4fq2kI"
      },
      "source": [
        ""
      ],
      "execution_count": null,
      "outputs": []
    }
  ]
}